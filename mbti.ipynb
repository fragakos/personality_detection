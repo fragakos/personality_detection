{
  "nbformat": 4,
  "nbformat_minor": 0,
  "metadata": {
    "colab": {
      "provenance": [],
      "collapsed_sections": [
        "cLLVpn9E4Stz",
        "Nfs5Zk5zjvtZ",
        "i8R_elRFusuj",
        "3lStlD4Ayi6-",
        "KNHAjeqX7KbA",
        "DrUdIAkoX7ql",
        "hVYGkEBPZTJu",
        "JnLbbdEmQoQ0",
        "Ba6LwCXYh8Mz",
        "nK19QOP5oxvQ"
      ]
    },
    "kernelspec": {
      "name": "python3",
      "display_name": "Python 3"
    },
    "language_info": {
      "name": "python"
    },
    "accelerator": "GPU"
  },
  "cells": [
    {
      "cell_type": "code",
      "metadata": {
        "colab": {
          "base_uri": "https://localhost:8080/"
        },
        "id": "FFZE6bADGbpi",
        "outputId": "37181a68-234b-449e-8847-c24b9551c4eb"
      },
      "source": [
        "from os import chdir\n",
        "from google.colab import drive\n",
        "drive.mount('/content/drive')\n",
        "chdir(\"/content/drive/MyDrive/thesis/mbti\")"
      ],
      "execution_count": null,
      "outputs": [
        {
          "output_type": "stream",
          "name": "stdout",
          "text": [
            "Drive already mounted at /content/drive; to attempt to forcibly remount, call drive.mount(\"/content/drive\", force_remount=True).\n"
          ]
        }
      ]
    },
    {
      "cell_type": "code",
      "metadata": {
        "id": "jP8ZP_Rw5dfN"
      },
      "source": [
        "#Imports\n",
        "import matplotlib.pyplot as plt\n",
        "import pandas as pd\n",
        "import numpy as np\n",
        "import seaborn as sns\n",
        "import sys\n",
        "%matplotlib inline\n",
        "import itertools\n",
        "import sklearn.metrics as metrics"
      ],
      "execution_count": null,
      "outputs": []
    },
    {
      "cell_type": "markdown",
      "metadata": {
        "id": "eqS73khuGjf-"
      },
      "source": [
        "#Loading our datasets"
      ]
    },
    {
      "cell_type": "code",
      "source": [
        "Location = r''\n",
        "mbti = pd.read_csv(\"/content/drive/MyDrive/thesis/(clean)mbti_expanded.csv\")\n",
        "mbti_clean = pd.read_csv(\"/content/drive/MyDrive/thesis/sentiment_augmented_mbti_clean_10_removed.csv\")"
      ],
      "metadata": {
        "id": "bJFnAAVoJtJ5"
      },
      "execution_count": null,
      "outputs": []
    },
    {
      "cell_type": "code",
      "source": [
        "mbti.dropna(axis=0, inplace=True)\n",
        "mbti.reset_index(drop=True, inplace=True)\n",
        "mbti"
      ],
      "metadata": {
        "colab": {
          "base_uri": "https://localhost:8080/",
          "height": 424
        },
        "id": "k9N3hqQ7Bjp3",
        "outputId": "452e8d48-8ac8-49c9-e92e-6f1267b39b5c"
      },
      "execution_count": null,
      "outputs": [
        {
          "output_type": "execute_result",
          "data": {
            "text/html": [
              "\n",
              "  <div id=\"df-fe11343a-5cd9-474e-83be-eb5f2139df44\">\n",
              "    <div class=\"colab-df-container\">\n",
              "      <div>\n",
              "<style scoped>\n",
              "    .dataframe tbody tr th:only-of-type {\n",
              "        vertical-align: middle;\n",
              "    }\n",
              "\n",
              "    .dataframe tbody tr th {\n",
              "        vertical-align: top;\n",
              "    }\n",
              "\n",
              "    .dataframe thead th {\n",
              "        text-align: right;\n",
              "    }\n",
              "</style>\n",
              "<table border=\"1\" class=\"dataframe\">\n",
              "  <thead>\n",
              "    <tr style=\"text-align: right;\">\n",
              "      <th></th>\n",
              "      <th>type</th>\n",
              "      <th>post</th>\n",
              "      <th>sentiment</th>\n",
              "      <th>sent_compound</th>\n",
              "      <th>sent_neg</th>\n",
              "      <th>sent_neu</th>\n",
              "      <th>sent_pos</th>\n",
              "      <th>e/i</th>\n",
              "      <th>s/n</th>\n",
              "      <th>t/f</th>\n",
              "      <th>j/p</th>\n",
              "    </tr>\n",
              "  </thead>\n",
              "  <tbody>\n",
              "    <tr>\n",
              "      <th>0</th>\n",
              "      <td>entp</td>\n",
              "      <td>haha really best combo already likeminded intu...</td>\n",
              "      <td>1</td>\n",
              "      <td>0.8158</td>\n",
              "      <td>0.000</td>\n",
              "      <td>0.795</td>\n",
              "      <td>0.205</td>\n",
              "      <td>0</td>\n",
              "      <td>1</td>\n",
              "      <td>0</td>\n",
              "      <td>1</td>\n",
              "    </tr>\n",
              "    <tr>\n",
              "      <th>1</th>\n",
              "      <td>isfp</td>\n",
              "      <td>listen day get fuckin tired earworms last mont...</td>\n",
              "      <td>0</td>\n",
              "      <td>-0.5399</td>\n",
              "      <td>0.142</td>\n",
              "      <td>0.858</td>\n",
              "      <td>0.000</td>\n",
              "      <td>1</td>\n",
              "      <td>0</td>\n",
              "      <td>1</td>\n",
              "      <td>1</td>\n",
              "    </tr>\n",
              "    <tr>\n",
              "      <th>2</th>\n",
              "      <td>esfj</td>\n",
              "      <td>think obvious bias forum internet general rega...</td>\n",
              "      <td>1</td>\n",
              "      <td>0.0258</td>\n",
              "      <td>0.114</td>\n",
              "      <td>0.769</td>\n",
              "      <td>0.117</td>\n",
              "      <td>0</td>\n",
              "      <td>0</td>\n",
              "      <td>1</td>\n",
              "      <td>0</td>\n",
              "    </tr>\n",
              "    <tr>\n",
              "      <th>3</th>\n",
              "      <td>intj</td>\n",
              "      <td>that's exactly dopamine system numbed crave ef...</td>\n",
              "      <td>1</td>\n",
              "      <td>0.2732</td>\n",
              "      <td>0.095</td>\n",
              "      <td>0.754</td>\n",
              "      <td>0.151</td>\n",
              "      <td>1</td>\n",
              "      <td>1</td>\n",
              "      <td>0</td>\n",
              "      <td>0</td>\n",
              "    </tr>\n",
              "    <tr>\n",
              "      <th>4</th>\n",
              "      <td>intp</td>\n",
              "      <td>i'm trying amass data personality type like go...</td>\n",
              "      <td>0</td>\n",
              "      <td>-0.6110</td>\n",
              "      <td>0.130</td>\n",
              "      <td>0.822</td>\n",
              "      <td>0.048</td>\n",
              "      <td>1</td>\n",
              "      <td>1</td>\n",
              "      <td>0</td>\n",
              "      <td>1</td>\n",
              "    </tr>\n",
              "    <tr>\n",
              "      <th>...</th>\n",
              "      <td>...</td>\n",
              "      <td>...</td>\n",
              "      <td>...</td>\n",
              "      <td>...</td>\n",
              "      <td>...</td>\n",
              "      <td>...</td>\n",
              "      <td>...</td>\n",
              "      <td>...</td>\n",
              "      <td>...</td>\n",
              "      <td>...</td>\n",
              "      <td>...</td>\n",
              "    </tr>\n",
              "    <tr>\n",
              "      <th>408221</th>\n",
              "      <td>infj</td>\n",
              "      <td>know infj take 2.5 hour get house morning alwa...</td>\n",
              "      <td>1</td>\n",
              "      <td>0.4019</td>\n",
              "      <td>0.000</td>\n",
              "      <td>0.930</td>\n",
              "      <td>0.070</td>\n",
              "      <td>1</td>\n",
              "      <td>1</td>\n",
              "      <td>1</td>\n",
              "      <td>0</td>\n",
              "    </tr>\n",
              "    <tr>\n",
              "      <th>408222</th>\n",
              "      <td>infj</td>\n",
              "      <td>depressed melancholy age raised think book mat...</td>\n",
              "      <td>0</td>\n",
              "      <td>-0.9074</td>\n",
              "      <td>0.325</td>\n",
              "      <td>0.603</td>\n",
              "      <td>0.071</td>\n",
              "      <td>1</td>\n",
              "      <td>1</td>\n",
              "      <td>1</td>\n",
              "      <td>0</td>\n",
              "    </tr>\n",
              "    <tr>\n",
              "      <th>408223</th>\n",
              "      <td>intp</td>\n",
              "      <td>thanks response infj said want friend however ...</td>\n",
              "      <td>1</td>\n",
              "      <td>0.6124</td>\n",
              "      <td>0.050</td>\n",
              "      <td>0.789</td>\n",
              "      <td>0.160</td>\n",
              "      <td>1</td>\n",
              "      <td>1</td>\n",
              "      <td>0</td>\n",
              "      <td>1</td>\n",
              "    </tr>\n",
              "    <tr>\n",
              "      <th>408224</th>\n",
              "      <td>infj</td>\n",
              "      <td>researching type came across famous istps cele...</td>\n",
              "      <td>1</td>\n",
              "      <td>0.1901</td>\n",
              "      <td>0.000</td>\n",
              "      <td>0.941</td>\n",
              "      <td>0.059</td>\n",
              "      <td>1</td>\n",
              "      <td>1</td>\n",
              "      <td>1</td>\n",
              "      <td>0</td>\n",
              "    </tr>\n",
              "    <tr>\n",
              "      <th>408225</th>\n",
              "      <td>infj</td>\n",
              "      <td>sore everywhere long trip massive suitcase ugh</td>\n",
              "      <td>0</td>\n",
              "      <td>-0.6486</td>\n",
              "      <td>0.515</td>\n",
              "      <td>0.485</td>\n",
              "      <td>0.000</td>\n",
              "      <td>1</td>\n",
              "      <td>1</td>\n",
              "      <td>1</td>\n",
              "      <td>0</td>\n",
              "    </tr>\n",
              "  </tbody>\n",
              "</table>\n",
              "<p>408226 rows × 11 columns</p>\n",
              "</div>\n",
              "      <button class=\"colab-df-convert\" onclick=\"convertToInteractive('df-fe11343a-5cd9-474e-83be-eb5f2139df44')\"\n",
              "              title=\"Convert this dataframe to an interactive table.\"\n",
              "              style=\"display:none;\">\n",
              "        \n",
              "  <svg xmlns=\"http://www.w3.org/2000/svg\" height=\"24px\"viewBox=\"0 0 24 24\"\n",
              "       width=\"24px\">\n",
              "    <path d=\"M0 0h24v24H0V0z\" fill=\"none\"/>\n",
              "    <path d=\"M18.56 5.44l.94 2.06.94-2.06 2.06-.94-2.06-.94-.94-2.06-.94 2.06-2.06.94zm-11 1L8.5 8.5l.94-2.06 2.06-.94-2.06-.94L8.5 2.5l-.94 2.06-2.06.94zm10 10l.94 2.06.94-2.06 2.06-.94-2.06-.94-.94-2.06-.94 2.06-2.06.94z\"/><path d=\"M17.41 7.96l-1.37-1.37c-.4-.4-.92-.59-1.43-.59-.52 0-1.04.2-1.43.59L10.3 9.45l-7.72 7.72c-.78.78-.78 2.05 0 2.83L4 21.41c.39.39.9.59 1.41.59.51 0 1.02-.2 1.41-.59l7.78-7.78 2.81-2.81c.8-.78.8-2.07 0-2.86zM5.41 20L4 18.59l7.72-7.72 1.47 1.35L5.41 20z\"/>\n",
              "  </svg>\n",
              "      </button>\n",
              "      \n",
              "  <style>\n",
              "    .colab-df-container {\n",
              "      display:flex;\n",
              "      flex-wrap:wrap;\n",
              "      gap: 12px;\n",
              "    }\n",
              "\n",
              "    .colab-df-convert {\n",
              "      background-color: #E8F0FE;\n",
              "      border: none;\n",
              "      border-radius: 50%;\n",
              "      cursor: pointer;\n",
              "      display: none;\n",
              "      fill: #1967D2;\n",
              "      height: 32px;\n",
              "      padding: 0 0 0 0;\n",
              "      width: 32px;\n",
              "    }\n",
              "\n",
              "    .colab-df-convert:hover {\n",
              "      background-color: #E2EBFA;\n",
              "      box-shadow: 0px 1px 2px rgba(60, 64, 67, 0.3), 0px 1px 3px 1px rgba(60, 64, 67, 0.15);\n",
              "      fill: #174EA6;\n",
              "    }\n",
              "\n",
              "    [theme=dark] .colab-df-convert {\n",
              "      background-color: #3B4455;\n",
              "      fill: #D2E3FC;\n",
              "    }\n",
              "\n",
              "    [theme=dark] .colab-df-convert:hover {\n",
              "      background-color: #434B5C;\n",
              "      box-shadow: 0px 1px 3px 1px rgba(0, 0, 0, 0.15);\n",
              "      filter: drop-shadow(0px 1px 2px rgba(0, 0, 0, 0.3));\n",
              "      fill: #FFFFFF;\n",
              "    }\n",
              "  </style>\n",
              "\n",
              "      <script>\n",
              "        const buttonEl =\n",
              "          document.querySelector('#df-fe11343a-5cd9-474e-83be-eb5f2139df44 button.colab-df-convert');\n",
              "        buttonEl.style.display =\n",
              "          google.colab.kernel.accessAllowed ? 'block' : 'none';\n",
              "\n",
              "        async function convertToInteractive(key) {\n",
              "          const element = document.querySelector('#df-fe11343a-5cd9-474e-83be-eb5f2139df44');\n",
              "          const dataTable =\n",
              "            await google.colab.kernel.invokeFunction('convertToInteractive',\n",
              "                                                     [key], {});\n",
              "          if (!dataTable) return;\n",
              "\n",
              "          const docLinkHtml = 'Like what you see? Visit the ' +\n",
              "            '<a target=\"_blank\" href=https://colab.research.google.com/notebooks/data_table.ipynb>data table notebook</a>'\n",
              "            + ' to learn more about interactive tables.';\n",
              "          element.innerHTML = '';\n",
              "          dataTable['output_type'] = 'display_data';\n",
              "          await google.colab.output.renderOutput(dataTable, element);\n",
              "          const docLink = document.createElement('div');\n",
              "          docLink.innerHTML = docLinkHtml;\n",
              "          element.appendChild(docLink);\n",
              "        }\n",
              "      </script>\n",
              "    </div>\n",
              "  </div>\n",
              "  "
            ],
            "text/plain": [
              "        type                                               post  ...  t/f  j/p\n",
              "0       entp  haha really best combo already likeminded intu...  ...    0    1\n",
              "1       isfp  listen day get fuckin tired earworms last mont...  ...    1    1\n",
              "2       esfj  think obvious bias forum internet general rega...  ...    1    0\n",
              "3       intj  that's exactly dopamine system numbed crave ef...  ...    0    0\n",
              "4       intp  i'm trying amass data personality type like go...  ...    0    1\n",
              "...      ...                                                ...  ...  ...  ...\n",
              "408221  infj  know infj take 2.5 hour get house morning alwa...  ...    1    0\n",
              "408222  infj  depressed melancholy age raised think book mat...  ...    1    0\n",
              "408223  intp  thanks response infj said want friend however ...  ...    0    1\n",
              "408224  infj  researching type came across famous istps cele...  ...    1    0\n",
              "408225  infj     sore everywhere long trip massive suitcase ugh  ...    1    0\n",
              "\n",
              "[408226 rows x 11 columns]"
            ]
          },
          "metadata": {},
          "execution_count": 42
        }
      ]
    },
    {
      "cell_type": "code",
      "source": [
        "mbti_clean.dropna(axis=0, inplace=True)\n",
        "mbti_clean.reset_index(drop=True, inplace=True)\n",
        "mbti_clean"
      ],
      "metadata": {
        "colab": {
          "base_uri": "https://localhost:8080/",
          "height": 424
        },
        "id": "ZAxyKS8nBkce",
        "outputId": "5f1deeef-a471-4bb4-a974-1d4c745a4d14"
      },
      "execution_count": null,
      "outputs": [
        {
          "output_type": "execute_result",
          "data": {
            "text/html": [
              "\n",
              "  <div id=\"df-e59ca17a-814e-4df2-b0de-628a1621b6bb\">\n",
              "    <div class=\"colab-df-container\">\n",
              "      <div>\n",
              "<style scoped>\n",
              "    .dataframe tbody tr th:only-of-type {\n",
              "        vertical-align: middle;\n",
              "    }\n",
              "\n",
              "    .dataframe tbody tr th {\n",
              "        vertical-align: top;\n",
              "    }\n",
              "\n",
              "    .dataframe thead th {\n",
              "        text-align: right;\n",
              "    }\n",
              "</style>\n",
              "<table border=\"1\" class=\"dataframe\">\n",
              "  <thead>\n",
              "    <tr style=\"text-align: right;\">\n",
              "      <th></th>\n",
              "      <th>type</th>\n",
              "      <th>post</th>\n",
              "      <th>word_count</th>\n",
              "      <th>e/i</th>\n",
              "      <th>s/n</th>\n",
              "      <th>t/f</th>\n",
              "      <th>j/p</th>\n",
              "      <th>sentiment</th>\n",
              "      <th>sent_compound</th>\n",
              "      <th>sent_neg</th>\n",
              "      <th>sent_neu</th>\n",
              "      <th>sent_pos</th>\n",
              "    </tr>\n",
              "  </thead>\n",
              "  <tbody>\n",
              "    <tr>\n",
              "      <th>0</th>\n",
              "      <td>infp</td>\n",
              "      <td>infj ex asked bad wanting happy go meet new pe...</td>\n",
              "      <td>15.0</td>\n",
              "      <td>1</td>\n",
              "      <td>1</td>\n",
              "      <td>1</td>\n",
              "      <td>1</td>\n",
              "      <td>0</td>\n",
              "      <td>-0.4019</td>\n",
              "      <td>0.290</td>\n",
              "      <td>0.543</td>\n",
              "      <td>0.167</td>\n",
              "    </tr>\n",
              "    <tr>\n",
              "      <th>1</th>\n",
              "      <td>entp</td>\n",
              "      <td>hear sister laugh living room evil one guy tak...</td>\n",
              "      <td>14.0</td>\n",
              "      <td>0</td>\n",
              "      <td>1</td>\n",
              "      <td>0</td>\n",
              "      <td>1</td>\n",
              "      <td>0</td>\n",
              "      <td>-0.5423</td>\n",
              "      <td>0.437</td>\n",
              "      <td>0.287</td>\n",
              "      <td>0.276</td>\n",
              "    </tr>\n",
              "    <tr>\n",
              "      <th>2</th>\n",
              "      <td>infj</td>\n",
              "      <td>i'm also year-old infj really talk many people...</td>\n",
              "      <td>19.0</td>\n",
              "      <td>1</td>\n",
              "      <td>1</td>\n",
              "      <td>1</td>\n",
              "      <td>0</td>\n",
              "      <td>1</td>\n",
              "      <td>0.4588</td>\n",
              "      <td>0.000</td>\n",
              "      <td>0.857</td>\n",
              "      <td>0.143</td>\n",
              "    </tr>\n",
              "    <tr>\n",
              "      <th>3</th>\n",
              "      <td>entj</td>\n",
              "      <td>find kind pointless point lol wake every day t...</td>\n",
              "      <td>18.0</td>\n",
              "      <td>0</td>\n",
              "      <td>1</td>\n",
              "      <td>0</td>\n",
              "      <td>0</td>\n",
              "      <td>1</td>\n",
              "      <td>0.8074</td>\n",
              "      <td>0.058</td>\n",
              "      <td>0.581</td>\n",
              "      <td>0.361</td>\n",
              "    </tr>\n",
              "    <tr>\n",
              "      <th>4</th>\n",
              "      <td>infp</td>\n",
              "      <td>wow personal thought i'd contribute often try ...</td>\n",
              "      <td>15.0</td>\n",
              "      <td>1</td>\n",
              "      <td>1</td>\n",
              "      <td>1</td>\n",
              "      <td>1</td>\n",
              "      <td>1</td>\n",
              "      <td>0.1531</td>\n",
              "      <td>0.258</td>\n",
              "      <td>0.417</td>\n",
              "      <td>0.325</td>\n",
              "    </tr>\n",
              "    <tr>\n",
              "      <th>...</th>\n",
              "      <td>...</td>\n",
              "      <td>...</td>\n",
              "      <td>...</td>\n",
              "      <td>...</td>\n",
              "      <td>...</td>\n",
              "      <td>...</td>\n",
              "      <td>...</td>\n",
              "      <td>...</td>\n",
              "      <td>...</td>\n",
              "      <td>...</td>\n",
              "      <td>...</td>\n",
              "      <td>...</td>\n",
              "    </tr>\n",
              "    <tr>\n",
              "      <th>704379</th>\n",
              "      <td>estj</td>\n",
              "      <td>opt touch touching give pain pleasure glow utm...</td>\n",
              "      <td>20.0</td>\n",
              "      <td>0</td>\n",
              "      <td>0</td>\n",
              "      <td>0</td>\n",
              "      <td>0</td>\n",
              "      <td>0</td>\n",
              "      <td>-0.3400</td>\n",
              "      <td>0.228</td>\n",
              "      <td>0.634</td>\n",
              "      <td>0.138</td>\n",
              "    </tr>\n",
              "    <tr>\n",
              "      <th>704380</th>\n",
              "      <td>estj</td>\n",
              "      <td>prefer touch touching give annoyance joy burn ...</td>\n",
              "      <td>20.0</td>\n",
              "      <td>0</td>\n",
              "      <td>0</td>\n",
              "      <td>0</td>\n",
              "      <td>0</td>\n",
              "      <td>0</td>\n",
              "      <td>-0.0772</td>\n",
              "      <td>0.197</td>\n",
              "      <td>0.656</td>\n",
              "      <td>0.147</td>\n",
              "    </tr>\n",
              "    <tr>\n",
              "      <th>704381</th>\n",
              "      <td>estj</td>\n",
              "      <td>choose touch touching give bother pleasure sti...</td>\n",
              "      <td>21.0</td>\n",
              "      <td>0</td>\n",
              "      <td>0</td>\n",
              "      <td>0</td>\n",
              "      <td>0</td>\n",
              "      <td>1</td>\n",
              "      <td>0.5719</td>\n",
              "      <td>0.091</td>\n",
              "      <td>0.679</td>\n",
              "      <td>0.230</td>\n",
              "    </tr>\n",
              "    <tr>\n",
              "      <th>704382</th>\n",
              "      <td>estj</td>\n",
              "      <td>pick touch meet give pain pleasure burn utmost...</td>\n",
              "      <td>22.0</td>\n",
              "      <td>0</td>\n",
              "      <td>0</td>\n",
              "      <td>0</td>\n",
              "      <td>0</td>\n",
              "      <td>0</td>\n",
              "      <td>-0.3400</td>\n",
              "      <td>0.212</td>\n",
              "      <td>0.660</td>\n",
              "      <td>0.128</td>\n",
              "    </tr>\n",
              "    <tr>\n",
              "      <th>704383</th>\n",
              "      <td>estj</td>\n",
              "      <td>choose touch touching give hurting joy burn ut...</td>\n",
              "      <td>21.0</td>\n",
              "      <td>0</td>\n",
              "      <td>0</td>\n",
              "      <td>0</td>\n",
              "      <td>0</td>\n",
              "      <td>0</td>\n",
              "      <td>-0.1779</td>\n",
              "      <td>0.201</td>\n",
              "      <td>0.659</td>\n",
              "      <td>0.139</td>\n",
              "    </tr>\n",
              "  </tbody>\n",
              "</table>\n",
              "<p>704384 rows × 12 columns</p>\n",
              "</div>\n",
              "      <button class=\"colab-df-convert\" onclick=\"convertToInteractive('df-e59ca17a-814e-4df2-b0de-628a1621b6bb')\"\n",
              "              title=\"Convert this dataframe to an interactive table.\"\n",
              "              style=\"display:none;\">\n",
              "        \n",
              "  <svg xmlns=\"http://www.w3.org/2000/svg\" height=\"24px\"viewBox=\"0 0 24 24\"\n",
              "       width=\"24px\">\n",
              "    <path d=\"M0 0h24v24H0V0z\" fill=\"none\"/>\n",
              "    <path d=\"M18.56 5.44l.94 2.06.94-2.06 2.06-.94-2.06-.94-.94-2.06-.94 2.06-2.06.94zm-11 1L8.5 8.5l.94-2.06 2.06-.94-2.06-.94L8.5 2.5l-.94 2.06-2.06.94zm10 10l.94 2.06.94-2.06 2.06-.94-2.06-.94-.94-2.06-.94 2.06-2.06.94z\"/><path d=\"M17.41 7.96l-1.37-1.37c-.4-.4-.92-.59-1.43-.59-.52 0-1.04.2-1.43.59L10.3 9.45l-7.72 7.72c-.78.78-.78 2.05 0 2.83L4 21.41c.39.39.9.59 1.41.59.51 0 1.02-.2 1.41-.59l7.78-7.78 2.81-2.81c.8-.78.8-2.07 0-2.86zM5.41 20L4 18.59l7.72-7.72 1.47 1.35L5.41 20z\"/>\n",
              "  </svg>\n",
              "      </button>\n",
              "      \n",
              "  <style>\n",
              "    .colab-df-container {\n",
              "      display:flex;\n",
              "      flex-wrap:wrap;\n",
              "      gap: 12px;\n",
              "    }\n",
              "\n",
              "    .colab-df-convert {\n",
              "      background-color: #E8F0FE;\n",
              "      border: none;\n",
              "      border-radius: 50%;\n",
              "      cursor: pointer;\n",
              "      display: none;\n",
              "      fill: #1967D2;\n",
              "      height: 32px;\n",
              "      padding: 0 0 0 0;\n",
              "      width: 32px;\n",
              "    }\n",
              "\n",
              "    .colab-df-convert:hover {\n",
              "      background-color: #E2EBFA;\n",
              "      box-shadow: 0px 1px 2px rgba(60, 64, 67, 0.3), 0px 1px 3px 1px rgba(60, 64, 67, 0.15);\n",
              "      fill: #174EA6;\n",
              "    }\n",
              "\n",
              "    [theme=dark] .colab-df-convert {\n",
              "      background-color: #3B4455;\n",
              "      fill: #D2E3FC;\n",
              "    }\n",
              "\n",
              "    [theme=dark] .colab-df-convert:hover {\n",
              "      background-color: #434B5C;\n",
              "      box-shadow: 0px 1px 3px 1px rgba(0, 0, 0, 0.15);\n",
              "      filter: drop-shadow(0px 1px 2px rgba(0, 0, 0, 0.3));\n",
              "      fill: #FFFFFF;\n",
              "    }\n",
              "  </style>\n",
              "\n",
              "      <script>\n",
              "        const buttonEl =\n",
              "          document.querySelector('#df-e59ca17a-814e-4df2-b0de-628a1621b6bb button.colab-df-convert');\n",
              "        buttonEl.style.display =\n",
              "          google.colab.kernel.accessAllowed ? 'block' : 'none';\n",
              "\n",
              "        async function convertToInteractive(key) {\n",
              "          const element = document.querySelector('#df-e59ca17a-814e-4df2-b0de-628a1621b6bb');\n",
              "          const dataTable =\n",
              "            await google.colab.kernel.invokeFunction('convertToInteractive',\n",
              "                                                     [key], {});\n",
              "          if (!dataTable) return;\n",
              "\n",
              "          const docLinkHtml = 'Like what you see? Visit the ' +\n",
              "            '<a target=\"_blank\" href=https://colab.research.google.com/notebooks/data_table.ipynb>data table notebook</a>'\n",
              "            + ' to learn more about interactive tables.';\n",
              "          element.innerHTML = '';\n",
              "          dataTable['output_type'] = 'display_data';\n",
              "          await google.colab.output.renderOutput(dataTable, element);\n",
              "          const docLink = document.createElement('div');\n",
              "          docLink.innerHTML = docLinkHtml;\n",
              "          element.appendChild(docLink);\n",
              "        }\n",
              "      </script>\n",
              "    </div>\n",
              "  </div>\n",
              "  "
            ],
            "text/plain": [
              "        type  ... sent_pos\n",
              "0       infp  ...    0.167\n",
              "1       entp  ...    0.276\n",
              "2       infj  ...    0.143\n",
              "3       entj  ...    0.361\n",
              "4       infp  ...    0.325\n",
              "...      ...  ...      ...\n",
              "704379  estj  ...    0.138\n",
              "704380  estj  ...    0.147\n",
              "704381  estj  ...    0.230\n",
              "704382  estj  ...    0.128\n",
              "704383  estj  ...    0.139\n",
              "\n",
              "[704384 rows x 12 columns]"
            ]
          },
          "metadata": {},
          "execution_count": 43
        }
      ]
    },
    {
      "cell_type": "markdown",
      "source": [
        "#Downsample the MBTI dataframe"
      ],
      "metadata": {
        "id": "NIkbWPScEU-R"
      }
    },
    {
      "cell_type": "code",
      "source": [
        "mbti['word_count'] = mbti['post'].str.split().str.len()\n",
        "mbti.sort_values(by='word_count', ascending=True, inplace=True)\n",
        "types = mbti['type'].unique()\n",
        "v_c = dict(mbti['type'].value_counts())\n",
        "minimum = mbti.loc[((mbti['type'] == 'estj') & (mbti['word_count'] > 10))].shape[0]\n",
        "\n",
        "indexes_to_remove = []\n",
        "for tp in types:\n",
        "    to_remove = v_c[tp] - minimum\n",
        "    for index in mbti[mbti['type'] == tp].iloc[:to_remove].index:\n",
        "        indexes_to_remove.append(index)\n",
        "mbti.drop(indexes_to_remove, inplace=True)\n",
        "mbti.reset_index(drop=True, inplace=True)\n",
        "\n"
      ],
      "metadata": {
        "id": "I-TtAIT9gq58"
      },
      "execution_count": null,
      "outputs": []
    },
    {
      "cell_type": "markdown",
      "source": [
        "# Clean up"
      ],
      "metadata": {
        "id": "cLLVpn9E4Stz"
      }
    },
    {
      "cell_type": "code",
      "source": [
        "!pip install contractions\n",
        "!pip install gibberish-detector\n",
        "!pip install textstat\n"
      ],
      "metadata": {
        "colab": {
          "base_uri": "https://localhost:8080/"
        },
        "id": "QditXxpSIn1D",
        "outputId": "11ac0e3f-90b0-4e8e-8e45-53dc3d337998"
      },
      "execution_count": null,
      "outputs": [
        {
          "output_type": "stream",
          "name": "stdout",
          "text": [
            "Requirement already satisfied: contractions in /usr/local/lib/python3.7/dist-packages (0.0.58)\n",
            "Requirement already satisfied: textsearch>=0.0.21 in /usr/local/lib/python3.7/dist-packages (from contractions) (0.0.21)\n",
            "Requirement already satisfied: anyascii in /usr/local/lib/python3.7/dist-packages (from textsearch>=0.0.21->contractions) (0.3.0)\n",
            "Requirement already satisfied: pyahocorasick in /usr/local/lib/python3.7/dist-packages (from textsearch>=0.0.21->contractions) (1.4.2)\n",
            "Requirement already satisfied: gibberish-detector in /usr/local/lib/python3.7/dist-packages (0.1.1)\n",
            "Requirement already satisfied: textstat in /usr/local/lib/python3.7/dist-packages (0.7.2)\n",
            "Requirement already satisfied: pyphen in /usr/local/lib/python3.7/dist-packages (from textstat) (0.12.0)\n"
          ]
        }
      ]
    },
    {
      "cell_type": "code",
      "source": [
        " !gibberish-detector train /content/drive/MyDrive/thesis/big.txt > gibberish-detector.model"
      ],
      "metadata": {
        "id": "OYSyHUeBM8S9"
      },
      "execution_count": null,
      "outputs": []
    },
    {
      "cell_type": "code",
      "source": [
        "import contractions\n",
        "from gibberish_detector import detector\n",
        "\n",
        "def contractions_fixer(text):\n",
        "    # load the gibberish detection model\n",
        "    Detector = detector.create_from_model('/content/drive/MyDrive/thesis/gibberish-detector.model')\n",
        "    if not Detector.is_gibberish(text):\n",
        "        return contractions.fix(text, slang=True)\n",
        "    else:\n",
        "        return np.nan  "
      ],
      "metadata": {
        "id": "H-1RWjaTJAeW"
      },
      "execution_count": null,
      "outputs": []
    },
    {
      "cell_type": "code",
      "source": [
        "mbti['post'] = mbti['post'].apply(contractions_fixer) "
      ],
      "metadata": {
        "id": "cvQLsSK2Kd4Y"
      },
      "execution_count": null,
      "outputs": []
    },
    {
      "cell_type": "code",
      "source": [
        "mbti.dropna(axis=0, inplace=True)"
      ],
      "metadata": {
        "id": "xomMdhAMWS-J"
      },
      "execution_count": null,
      "outputs": []
    },
    {
      "cell_type": "code",
      "source": [
        "!pip install Unidecode"
      ],
      "metadata": {
        "colab": {
          "base_uri": "https://localhost:8080/"
        },
        "id": "0AqWf521UTmY",
        "outputId": "00867496-aa13-47c4-9caa-1de7bc05c186"
      },
      "execution_count": null,
      "outputs": [
        {
          "output_type": "stream",
          "name": "stdout",
          "text": [
            "Requirement already satisfied: Unidecode in /usr/local/lib/python3.7/dist-packages (1.3.2)\n"
          ]
        }
      ]
    },
    {
      "cell_type": "code",
      "source": [
        "import nltk\n",
        "from nltk.corpus import stopwords\n",
        "from nltk.tokenize import word_tokenize\n",
        "from nltk.stem import *\n",
        "from nltk.stem import WordNetLemmatizer\n",
        "from nltk.stem.snowball import SnowballStemmer\n",
        "import string\n",
        "from unidecode import unidecode\n",
        "import re\n",
        "nltk.download('wordnet')\n",
        "nltk.download('stopwords')\n",
        "nltk.download('punkt')"
      ],
      "metadata": {
        "colab": {
          "base_uri": "https://localhost:8080/"
        },
        "id": "TiVUKTdSeR3D",
        "outputId": "f1b16944-8ce3-417b-97eb-328df44dd042"
      },
      "execution_count": null,
      "outputs": [
        {
          "output_type": "stream",
          "name": "stdout",
          "text": [
            "[nltk_data] Downloading package wordnet to /root/nltk_data...\n",
            "[nltk_data]   Package wordnet is already up-to-date!\n",
            "[nltk_data] Downloading package stopwords to /root/nltk_data...\n",
            "[nltk_data]   Package stopwords is already up-to-date!\n",
            "[nltk_data] Downloading package punkt to /root/nltk_data...\n",
            "[nltk_data]   Package punkt is already up-to-date!\n"
          ]
        },
        {
          "output_type": "execute_result",
          "data": {
            "text/plain": [
              "True"
            ]
          },
          "metadata": {},
          "execution_count": 227
        }
      ]
    },
    {
      "cell_type": "code",
      "source": [
        "emoticons_str = r\"\"\"\n",
        "    (?:\n",
        "        [:=;] # Eyes\n",
        "        [oO\\-]? # Nose (optional)\n",
        "        [D\\)\\]\\(\\]/\\\\OpP] # Mouth\n",
        "    )\"\"\"\n",
        "\n",
        "emoji_pattern = re.compile(\"[\"\n",
        "        u\"\\U0001F600-\\U0001F64F\"  # emoticons\n",
        "        u\"\\U0001F300-\\U0001F5FF\"  # symbols & pictographs\n",
        "        u\"\\U0001F680-\\U0001F6FF\"  # transport & map symbols\n",
        "        u\"\\U0001F1E0-\\U0001F1FF\"  # flags (iOS)\n",
        "                           \"]+\", flags=re.UNICODE)\n",
        "\n",
        "\n",
        "regex_str = [\n",
        "    emoticons_str,\n",
        "    r'<[^>]+>',  # HTML tags\n",
        "    r'(?:@[\\w_]+)',  # @-mentions\n",
        "    r\"(?:\\#+[\\w_]+[\\w\\'_\\-]*[\\w_]+)\",  # hash-tags\n",
        "    r'http[s]?://(?:[a-z]|[0-9]|[$-_@.&amp;+]|[!*\\(\\),]|(?:%[0-9a-f][0-9a-f]))+',  # URLs\n",
        "    \n",
        "    r'(?:(?:\\d+,?)+(?:\\.?\\d+)?)',  # numbers\n",
        "    r\"(?:[a-z][a-z'\\-_]+[a-z])\",  # words with - and '\n",
        "    r'(?:[\\w_]+)',  # other words\n",
        "    r'(?:\\S)'  # anything else\n",
        "]\n",
        "\n",
        "tokens_re = re.compile(r'(' + '|'.join(regex_str) + ')', re.VERBOSE | re.IGNORECASE)\n",
        "emoticon_re = re.compile(r'^' + emoticons_str + '$', re.VERBOSE | re.IGNORECASE)"
      ],
      "metadata": {
        "id": "UafqV2GbevHh"
      },
      "execution_count": null,
      "outputs": []
    },
    {
      "cell_type": "code",
      "source": [
        "types = mbti['type'].unique()\n",
        "def tokenize(s):\n",
        "    return tokens_re.findall(s)\n",
        "\n",
        "\n",
        "def preprocess(s, lowercase=False):\n",
        "    tokens = tokenize(s)\n",
        "    if lowercase:\n",
        "        tokens = [token if tokens_re.search(token) else token.lower() for token in tokens]\n",
        "    return tokens\n",
        "\n",
        "def preproc(s):\n",
        "\t#s=emoji_pattern.sub(r'', s) # no emoji\n",
        "\ts= unidecode(s)\n",
        "\tPOSTagger=preprocess(s)\n",
        "\t#print(POSTagger)\n",
        "\n",
        "\tpost=' '.join(POSTagger)\n",
        "\tstop_words = set(stopwords.words('english')).union({'http', 'www', 'com', 'watch'})\n",
        "\tword_tokens = word_tokenize(post)\n",
        "\t#filtered_sentence = [w for w in word_tokens if not w in stop_words]\n",
        "\tfiltered_sentence = []\n",
        "\tfor w in POSTagger:\n",
        "\t    if w not in stop_words:\n",
        "\t        filtered_sentence.append(w)\n",
        "\t#print(word_tokens)\n",
        "\t#print(filtered_sentence)\n",
        "\t#stemmed_sentence=[]\n",
        "\tlemmatized_sentence = []\n",
        "\t#stemmer2 = SnowballStemmer(\"english\", ignore_stopwords=True)\n",
        "\tlemmatizer = WordNetLemmatizer()\n",
        "\tfor w in filtered_sentence:\n",
        "\t\t#stemmed_sentence.append(stemmer2.stem(w))\n",
        "\t\tlemmatized_sentence.append(lemmatizer.lemmatize(w))\n",
        "\t#print(stemmed_sentence)\n",
        "\n",
        "\ttemp = ' '.join(c for c in lemmatized_sentence if c not in string.punctuation) \n",
        "\tpreProcessed=temp.split(\" \")\n",
        "\tfinal=[]\n",
        "\tfor i in preProcessed:\n",
        "\t\tif i not in final:\n",
        "\t\t\tif i.isdigit():\n",
        "\t\t\t\tpass\n",
        "\t\t\telse:\n",
        "\t\t\t\tif not any(tp in i for tp in types) and 'http' not in i:\n",
        "\t\t\t\t\tfinal.append(i)\n",
        "\ttemp1=' '.join(c for c in final)\n",
        "\t#print(preProcessed)\n",
        "\treturn temp1"
      ],
      "metadata": {
        "id": "-ZkHu57Le47S"
      },
      "execution_count": null,
      "outputs": []
    },
    {
      "cell_type": "code",
      "source": [
        "mbti['type'] = mbti['type'].str.lower()\n",
        "mbti['post'] = mbti['post'].str.lower().apply(preproc)  \n",
        "mbti.reset_index(drop=True, inplace=True)    \n",
        "list(mbti['post']) "
      ],
      "metadata": {
        "id": "-HA1-arX-RmU"
      },
      "execution_count": null,
      "outputs": []
    },
    {
      "cell_type": "code",
      "source": [
        "# mbti_clean['word_count'] = mbti_clean['post'].str.split().str.len()\n",
        "# mbti_clean['post'].replace('', np.nan, inplace=True)\n",
        "# mbti_clean['word_count'].replace([1,2,3,4,5,6,7,8,9,10], np.nan, inplace=True)\n",
        "# mbti_clean.dropna(axis=0, inplace=True)\n",
        "# mbti_clean.reset_index(drop=True, inplace=True)     "
      ],
      "metadata": {
        "id": "m9ylueHPEXdI"
      },
      "execution_count": null,
      "outputs": []
    },
    {
      "cell_type": "code",
      "source": [
        "# mbti_clean['e/i'] = np.where(mbti_clean['type'].str.find('i') >= 0, 1, 0)\n",
        "# mbti_clean['s/n'] = np.where(mbti_clean['type'].str.find('n') >= 0, 1, 0)\n",
        "# mbti_clean['t/f'] = np.where(mbti_clean['type'].str.find('f') >= 0, 1, 0)\n",
        "# mbti_clean['j/p'] = np.where(mbti_clean['type'].str.find('p') >= 0, 1, 0)"
      ],
      "metadata": {
        "id": "TeV_jwgJFGQ7"
      },
      "execution_count": null,
      "outputs": []
    },
    {
      "cell_type": "code",
      "source": [
        "# mbti['e/i'] = np.where(mbti['type'].str.lower().str.find('i') >= 0, 1, 0)\n",
        "# mbti['s/n'] = np.where(mbti['type'].str.lower().str.find('n') >= 0, 1, 0)\n",
        "# mbti['t/f'] = np.where(mbti['type'].str.lower().str.find('f') >= 0, 1, 0)\n",
        "# mbti['j/p'] = np.where(mbti['type'].str.lower().str.find('p') >= 0, 1, 0)"
      ],
      "metadata": {
        "id": "ikyTBJAK1FRM"
      },
      "execution_count": null,
      "outputs": []
    },
    {
      "cell_type": "code",
      "source": [
        "# indexes = []\n",
        "# for idx, e in enumerate(list(mbti['post'])):\n",
        "#     if isinstance(e, float):\n",
        "#         indexes.append(idx)\n",
        "#         print(\"IN\")\n"
      ],
      "metadata": {
        "id": "PyH4zYDHXZRT"
      },
      "execution_count": null,
      "outputs": []
    },
    {
      "cell_type": "code",
      "source": [
        "# mbti = mbti.drop(index=indexes) \n",
        "# mbti.reset_index(drop=True, inplace=True) "
      ],
      "metadata": {
        "id": "JOvS-sWL-I68"
      },
      "execution_count": null,
      "outputs": []
    },
    {
      "cell_type": "code",
      "source": [
        "# mbti = mbti.sample(frac=1)\n",
        "# mbti.reset_index(drop=True, inplace=True)\n",
        "# mbti.to_csv(r'/content/drive/MyDrive/thesis/(clean)mbti_expanded.csv', index = False, header = True)"
      ],
      "metadata": {
        "id": "6Sz-H1WjwXfn"
      },
      "execution_count": null,
      "outputs": []
    },
    {
      "cell_type": "markdown",
      "source": [
        "# Sentiment Analysis"
      ],
      "metadata": {
        "id": "Nfs5Zk5zjvtZ"
      }
    },
    {
      "cell_type": "code",
      "source": [
        "nltk.download('vader_lexicon')\n",
        "from nltk.sentiment.vader import SentimentIntensityAnalyzer\n"
      ],
      "metadata": {
        "colab": {
          "base_uri": "https://localhost:8080/"
        },
        "id": "9egKD20hjynF",
        "outputId": "4003c8ba-090d-449e-8e0d-c3eb3a1bdd77"
      },
      "execution_count": null,
      "outputs": [
        {
          "output_type": "stream",
          "name": "stdout",
          "text": [
            "[nltk_data] Downloading package vader_lexicon to /root/nltk_data...\n",
            "[nltk_data]   Package vader_lexicon is already up-to-date!\n"
          ]
        }
      ]
    },
    {
      "cell_type": "code",
      "source": [
        "def sentiment_analysis(s):\n",
        "    sid = SentimentIntensityAnalyzer()\n",
        "    result = sid.polarity_scores(s)\n",
        "    if result['compound'] > 0:\n",
        "        sentiment = 1\n",
        "    else:\n",
        "        sentiment = 0    \n",
        "    return sentiment, result['compound'], result['neg'], result['neu'], result['pos'] "
      ],
      "metadata": {
        "id": "dFtbWAfNkfdM"
      },
      "execution_count": null,
      "outputs": []
    },
    {
      "cell_type": "code",
      "source": [
        "mbti['sentiment'], mbti['sent_compound'], mbti['sent_neg'], mbti['sent_neu'], mbti['sent_pos'] = zip(*mbti['post'].apply(sentiment_analysis))\n",
        "mbti_clean['sentiment'], mbti_clean['sent_compound'], mbti_clean['sent_neg'], mbti_clean['sent_neu'], mbti_clean['sent_pos'] = zip(*mbti_clean['post'].apply(sentiment_analysis))"
      ],
      "metadata": {
        "id": "nK6MFtgPlIC2"
      },
      "execution_count": null,
      "outputs": []
    },
    {
      "cell_type": "code",
      "source": [
        "# mbti.to_csv(r'/content/drive/MyDrive/thesis/mbti_expanded.csv', index = False, header = True)\n",
        "# mbti_clean.to_csv(r'/content/drive/MyDrive/thesis/(sentiment)mbti_clean_10_removed.csv', index = False, header = True)"
      ],
      "metadata": {
        "id": "9RLVcXDwwYS2"
      },
      "execution_count": null,
      "outputs": []
    },
    {
      "cell_type": "markdown",
      "source": [
        "#Split train test"
      ],
      "metadata": {
        "id": "i8R_elRFusuj"
      }
    },
    {
      "cell_type": "code",
      "execution_count": null,
      "metadata": {
        "id": "xDIxfdvaL1UA"
      },
      "outputs": [],
      "source": [
        "from sklearn.model_selection import train_test_split\n",
        "# X_train, _, y_train, _ = train_test_split(mbti_clean['post'], mbti_clean['e/i'], test_size=0.10)\n",
        "# X_train_sent, _, y_train_sent, _ = train_test_split(mbti_clean['sent_compound'], mbti_clean['e/i'], test_size=0.25)\n",
        "# _, X_test, _, y_test = train_test_split(mbti['post'], mbti['e/i'], test_size=0.25, random_state=42)\n",
        "\n",
        "X_train, X_test, y_train, y_test = train_test_split(mbti['post'], mbti['s/n'], test_size=0.25, random_state=42)"
      ]
    },
    {
      "cell_type": "code",
      "source": [
        "selected_train = mbti.iloc[X_train.index, :]\n",
        "selected_test = mbti.iloc[X_test.index, :]\n",
        "X_train_sent = np.concatenate((selected_train['sentiment'].values.reshape(-1,1), selected_train['sent_compound'].values.reshape(-1,1), selected_train['sent_neg'].values.reshape(-1,1), \\\n",
        "                               selected_train['sent_neu'].values.reshape(-1,1), selected_train['sent_pos'].values.reshape(-1,1)), axis=1)\n",
        "X_test_sent = np.concatenate((selected_test['sentiment'].values.reshape(-1,1), selected_test['sent_compound'].values.reshape(-1,1), selected_test['sent_neg'].values.reshape(-1,1), \\\n",
        "                               selected_test['sent_neu'].values.reshape(-1,1), selected_test['sent_pos'].values.reshape(-1,1)), axis=1)"
      ],
      "metadata": {
        "id": "guGn7iR_2cNr"
      },
      "execution_count": null,
      "outputs": []
    },
    {
      "cell_type": "markdown",
      "metadata": {
        "id": "ZsixhzAMKK3f"
      },
      "source": [
        "# Embeddings"
      ]
    },
    {
      "cell_type": "markdown",
      "source": [
        "## Fasttext"
      ],
      "metadata": {
        "id": "3lStlD4Ayi6-"
      }
    },
    {
      "cell_type": "code",
      "source": [
        "def formatData_fasttext(path, X, y):\n",
        "    f = open(path, \"w\")\n",
        "    for post, label in zip(X, y):\n",
        "        f.write(f\"__label__{label} {post}\\n\")\n",
        "    f.close()  \n",
        "\n",
        "formatData_fasttext(\"/content/drive/MyDrive/thesis/data_train.txt\", X_train, y_train)\n",
        "formatData_fasttext(\"/content/drive/MyDrive/thesis/data_test.txt\", X_test, y_test)  "
      ],
      "metadata": {
        "id": "bziPbxtOEcPq"
      },
      "execution_count": null,
      "outputs": []
    },
    {
      "cell_type": "code",
      "source": [
        "!pip install fasttext\n",
        "import fasttext"
      ],
      "metadata": {
        "colab": {
          "base_uri": "https://localhost:8080/"
        },
        "id": "AZuz3nHwD95u",
        "outputId": "023ecc53-48df-449a-ef8d-906098fe96f2"
      },
      "execution_count": null,
      "outputs": [
        {
          "output_type": "stream",
          "name": "stdout",
          "text": [
            "Collecting fasttext\n",
            "  Downloading fasttext-0.9.2.tar.gz (68 kB)\n",
            "\u001b[?25l\r\u001b[K     |████▊                           | 10 kB 28.8 MB/s eta 0:00:01\r\u001b[K     |█████████▌                      | 20 kB 19.6 MB/s eta 0:00:01\r\u001b[K     |██████████████▎                 | 30 kB 15.1 MB/s eta 0:00:01\r\u001b[K     |███████████████████             | 40 kB 13.7 MB/s eta 0:00:01\r\u001b[K     |███████████████████████▉        | 51 kB 5.7 MB/s eta 0:00:01\r\u001b[K     |████████████████████████████▋   | 61 kB 6.1 MB/s eta 0:00:01\r\u001b[K     |████████████████████████████████| 68 kB 3.6 MB/s \n",
            "\u001b[?25hCollecting pybind11>=2.2\n",
            "  Using cached pybind11-2.8.1-py2.py3-none-any.whl (208 kB)\n",
            "Requirement already satisfied: setuptools>=0.7.0 in /usr/local/lib/python3.7/dist-packages (from fasttext) (57.4.0)\n",
            "Requirement already satisfied: numpy in /usr/local/lib/python3.7/dist-packages (from fasttext) (1.19.5)\n",
            "Building wheels for collected packages: fasttext\n",
            "  Building wheel for fasttext (setup.py) ... \u001b[?25l\u001b[?25hdone\n",
            "  Created wheel for fasttext: filename=fasttext-0.9.2-cp37-cp37m-linux_x86_64.whl size=3121916 sha256=e718c2662b15a71cb0bd9556fd0836c080af87dbd801a00b0721a5cc47418ac3\n",
            "  Stored in directory: /root/.cache/pip/wheels/4e/ca/bf/b020d2be95f7641801a6597a29c8f4f19e38f9c02a345bab9b\n",
            "Successfully built fasttext\n",
            "Installing collected packages: pybind11, fasttext\n",
            "Successfully installed fasttext-0.9.2 pybind11-2.8.1\n"
          ]
        }
      ]
    },
    {
      "cell_type": "code",
      "source": [
        "model = fasttext.train_supervised('/content/drive/MyDrive/thesis/data_train.txt', lr=0.025, epoch=15)"
      ],
      "metadata": {
        "id": "9ORsGKNwK-Kq"
      },
      "execution_count": null,
      "outputs": []
    },
    {
      "cell_type": "code",
      "source": [
        "def print_results(N, p, r):\n",
        "    print(\"N\\t\" + str(N))\n",
        "    print(\"P@{}\\t{:.3f}\".format(1, p))\n",
        "    print(\"R@{}\\t{:.3f}\".format(1, r))\n",
        "\n",
        "print_results(*model.test('/content/drive/MyDrive/thesis/data_test.txt'))"
      ],
      "metadata": {
        "colab": {
          "base_uri": "https://localhost:8080/"
        },
        "id": "5QLMiRsAIoGR",
        "outputId": "0fe364ac-5fe4-4353-98bb-f0fa2180b59f"
      },
      "execution_count": null,
      "outputs": [
        {
          "output_type": "stream",
          "name": "stdout",
          "text": [
            "N\t4872\n",
            "P@1\t0.632\n",
            "R@1\t0.632\n"
          ]
        }
      ]
    },
    {
      "cell_type": "code",
      "source": [
        "pred = X_test.apply(lambda x: int(model.predict(x)[0][0].replace(\"__label__\", \"\")))\n",
        "# pred = model.predict(X_test.tolist())\n",
        "conf_mat = metrics.confusion_matrix(y_test.values, pred)\n",
        "sns.heatmap(conf_mat, square=True, annot=True, cmap='Blues', fmt='d', cbar=False)"
      ],
      "metadata": {
        "colab": {
          "base_uri": "https://localhost:8080/",
          "height": 282
        },
        "id": "Bzo7Z1pOHAWd",
        "outputId": "bb919927-bc10-4814-952b-4b2117a5540b"
      },
      "execution_count": null,
      "outputs": [
        {
          "output_type": "execute_result",
          "data": {
            "text/plain": [
              "<matplotlib.axes._subplots.AxesSubplot at 0x7f6ca5a1e790>"
            ]
          },
          "metadata": {},
          "execution_count": 18
        },
        {
          "output_type": "display_data",
          "data": {
            "image/png": "[encoded data removed]",
            "text/plain": [
              "<Figure size 432x288 with 1 Axes>"
            ]
          },
          "metadata": {
            "needs_background": "light"
          }
        }
      ]
    },
    {
      "cell_type": "markdown",
      "metadata": {
        "id": "KNHAjeqX7KbA"
      },
      "source": [
        "## Glove vectors"
      ]
    },
    {
      "cell_type": "code",
      "metadata": {
        "id": "ZvsT5qRB5KqN",
        "colab": {
          "base_uri": "https://localhost:8080/"
        },
        "outputId": "6756f523-5aaf-4650-8adc-ac547d113790"
      },
      "source": [
        "import gensim.downloader as api\n",
        "\n",
        "glove_vectors = api.load(\"glove-wiki-gigaword-100\")"
      ],
      "execution_count": null,
      "outputs": [
        {
          "output_type": "stream",
          "name": "stdout",
          "text": [
            "[==================================================] 100.0% 128.1/128.1MB downloaded\n"
          ]
        }
      ]
    },
    {
      "cell_type": "code",
      "metadata": {
        "id": "bx99rIdU7g9K"
      },
      "source": [
        "from wordcloud import STOPWORDS\n",
        "def textToEmbedding(txt, embeddings, rmvStopwords=False):\n",
        "    if rmvStopwords:\n",
        "        stopwords = set(STOPWORDS)\n",
        "        txt  = [token for token in txt if token not in stopwords]\n",
        "    \n",
        "    ret_vec = np.zeros((1,embeddings.vector_size), dtype=float)\n",
        "    # iterate through words and retrive embedding from pre-trained vectors\n",
        "    counter = 0\n",
        "    nf = 0\n",
        "    for token in txt:\n",
        "        if token not in embeddings.vocab.keys():\n",
        "            nf = nf +1\n",
        "            # print(token)\n",
        "            continue\n",
        "        \n",
        "        ret_vec += embeddings[token]\n",
        "        counter += 1\n",
        "\n",
        "    # embedding for whole text is average of embedding of each word\n",
        "    return (ret_vec / counter) if counter != 0 else ret_vec"
      ],
      "execution_count": null,
      "outputs": []
    },
    {
      "cell_type": "code",
      "metadata": {
        "id": "mEP4goEs7hrX"
      },
      "source": [
        "def recordsToVecs(df, embeddings):\n",
        "    for idx, row in enumerate(df.iterrows()):\n",
        "        record = row[1]\n",
        "\n",
        "        record_vec = textToEmbedding(record['post'].split(), embeddings).reshape(1,-1)\n",
        "\n",
        "        if idx == 0:\n",
        "            ret_vec = record_vec\n",
        "        else:\n",
        "            ret_vec = np.concatenate((ret_vec, record_vec))\n",
        "        if idx%1000 == 0:\n",
        "            print(idx)\n",
        "    return ret_vec"
      ],
      "execution_count": null,
      "outputs": []
    },
    {
      "cell_type": "code",
      "metadata": {
        "id": "KoDAZ0zf7xvg"
      },
      "source": [
        "X_train_w2v = recordsToVecs(train, glove_vectors)\n",
        "# X_test_w2v = recordsToVecs(test, glove_vectors)"
      ],
      "execution_count": null,
      "outputs": []
    },
    {
      "cell_type": "code",
      "source": [
        " ret_vec = np.zeros((100000,glove_vectors.vector_size), dtype=float)\n",
        " temp = np.zeros((1,glove_vectors.vector_size), dtype=float)"
      ],
      "metadata": {
        "id": "P50CZCkdmONa"
      },
      "execution_count": null,
      "outputs": []
    },
    {
      "cell_type": "code",
      "source": [
        "df = pd.DataFrame({\"A\": [1, 2], \"B\": [3.0, 4.5]})\n",
        "df.to_csv(\"testNP.csv\",index=False)"
      ],
      "metadata": {
        "id": "jUgOf8JbmVdC"
      },
      "execution_count": null,
      "outputs": []
    },
    {
      "cell_type": "code",
      "source": [
        "testnp =  pd.read_csv(\"/content/drive/MyDrive/thesis/testNP.csv\")\n"
      ],
      "metadata": {
        "id": "IDPOK_zxtN6l"
      },
      "execution_count": null,
      "outputs": []
    },
    {
      "cell_type": "code",
      "source": [
        "ret_np = testnp.to_numpy()"
      ],
      "metadata": {
        "id": "W92IrvXVtmyq"
      },
      "execution_count": null,
      "outputs": []
    },
    {
      "cell_type": "code",
      "source": [
        "ret_np"
      ],
      "metadata": {
        "colab": {
          "base_uri": "https://localhost:8080/"
        },
        "id": "-A1ZaX8PtsbK",
        "outputId": "4c9b56c8-c56b-41e3-96aa-08d40870f999"
      },
      "execution_count": null,
      "outputs": [
        {
          "output_type": "execute_result",
          "data": {
            "text/plain": [
              "array([[1. , 3. ],\n",
              "       [2. , 4.5]])"
            ]
          },
          "metadata": {},
          "execution_count": 105
        }
      ]
    },
    {
      "cell_type": "code",
      "source": [
        "pd.DataFrame(ret_np).to_csv(\"/content/drive/MyDrive/thesis/testNP.csv\", index=False)"
      ],
      "metadata": {
        "id": "GGdR19Nsuchh"
      },
      "execution_count": null,
      "outputs": []
    },
    {
      "cell_type": "code",
      "source": [
        "print(f'Train data shape: {X_train_w2v.shape}')"
      ],
      "metadata": {
        "colab": {
          "base_uri": "https://localhost:8080/"
        },
        "id": "x2AGm7U3TN5p",
        "outputId": "bacadcc1-bd09-4a44-9ee3-f5c236a259ef"
      },
      "execution_count": null,
      "outputs": [
        {
          "output_type": "stream",
          "name": "stdout",
          "text": [
            "Train data shape: (1001, 100)\n"
          ]
        }
      ]
    },
    {
      "cell_type": "code",
      "metadata": {
        "id": "8QRD0CgqAH0Z"
      },
      "source": [
        "print(f'Train data shape: {X_train_w2v.shape}')\n",
        "print(f'Test data shape: {X_test_w2v.shape}')"
      ],
      "execution_count": null,
      "outputs": []
    },
    {
      "cell_type": "markdown",
      "metadata": {
        "id": "DrUdIAkoX7ql"
      },
      "source": [
        "## Creating the bag of words representations"
      ]
    },
    {
      "cell_type": "code",
      "metadata": {
        "id": "F6sKNthDX8Hu"
      },
      "source": [
        "from sklearn.feature_extraction.text import CountVectorizer\n",
        "\n",
        "bow_vectorizer = CountVectorizer(max_features=1000, ngram_range=(1,2))\n",
        "\n",
        "X_train_bow = X_train\n",
        "X_test_bow = X_test\n",
        "\n",
        "# learn the vocabulary only on training data\n",
        "X_train_bow = bow_vectorizer.fit_transform(X_train_bow.tolist())\n",
        "X_test_bow = bow_vectorizer.transform(X_test_bow.tolist())"
      ],
      "execution_count": null,
      "outputs": []
    },
    {
      "cell_type": "markdown",
      "metadata": {
        "id": "hVYGkEBPZTJu"
      },
      "source": [
        "## Creating the tf-idf representations\n"
      ]
    },
    {
      "cell_type": "code",
      "metadata": {
        "id": "E-9GPFB3ZTs1"
      },
      "source": [
        "from sklearn.feature_extraction.text import TfidfVectorizer\n",
        "\n",
        "tfidf_vectorizer = TfidfVectorizer(max_features=1000, ngram_range=(1,2))\n",
        "\n",
        "X_train_tfidf = X_train\n",
        "X_test_tfidf = X_test\n",
        "\n",
        "# learn the vocabulary only on training data\n",
        "X_train_tfidf = tfidf_vectorizer.fit_transform(X_train_tfidf.tolist())\n",
        "X_test_tfidf = tfidf_vectorizer.transform(X_test_tfidf.tolist())"
      ],
      "execution_count": null,
      "outputs": []
    },
    {
      "cell_type": "code",
      "source": [
        "X_train_tfidf_sent = np.concatenate((X_train_tfidf.toarray(), X_train_sent), axis=1)\n",
        "X_test_tfidf_sent = np.concatenate((X_test_tfidf.toarray(), X_test_sent), axis=1)"
      ],
      "metadata": {
        "id": "jY1LyvI4KikC"
      },
      "execution_count": null,
      "outputs": []
    },
    {
      "cell_type": "markdown",
      "metadata": {
        "id": "JnLbbdEmQoQ0"
      },
      "source": [
        "##Universal sentence encoder pretrained"
      ]
    },
    {
      "cell_type": "code",
      "execution_count": null,
      "metadata": {
        "colab": {
          "base_uri": "https://localhost:8080/"
        },
        "id": "k-wG7-PiQt82",
        "outputId": "5362492c-110c-49f5-83f4-426db6d73c60"
      },
      "outputs": [
        {
          "output_type": "stream",
          "name": "stdout",
          "text": [
            "module https://tfhub.dev/google/universal-sentence-encoder/4 loaded\n"
          ]
        }
      ],
      "source": [
        "import tensorflow_hub as hub\n",
        "module_url = \"https://tfhub.dev/google/universal-sentence-encoder/4\" #@param [\"https://tfhub.dev/google/universal-sentence-encoder/4\", \"https://tfhub.dev/google/universal-sentence-encoder-large/5\"]\n",
        "embed = hub.load(module_url)\n",
        "print (\"module %s loaded\" % module_url)\n"
      ]
    },
    {
      "cell_type": "code",
      "execution_count": null,
      "metadata": {
        "id": "JabHx-qLQ-Ga"
      },
      "outputs": [],
      "source": [
        "import tensorflow as tf\n",
        "# # run_opts = tf.RunOptions(report_tensor_allocations_upon_oom = True)\n",
        "# # Reduce logging output.\n",
        "def use_embed(X, batch_size, total_size):\n",
        "    X = X.tolist()\n",
        "    idx = 0\n",
        "    cut = batch_size\n",
        "    if batch_size >= total_size:\n",
        "         X_use = embed(X[idx:total_size])\n",
        "         return X_use\n",
        "    while(1):\n",
        "        if idx == 0:\n",
        "            X_use = embed(X[idx:cut])\n",
        "            print(idx)    \n",
        "        else:\n",
        "            temp = embed(X[idx:cut])\n",
        "            print(idx)\n",
        "            X_use = tf.concat([X_use, temp], 0)\n",
        "            if cut == total_size:\n",
        "                return X_use\n",
        "\n",
        "        idx += batch_size\n",
        "        if cut+batch_size > total_size:\n",
        "            cut += batch_size-((cut+batch_size) - total_size)\n",
        "        else:\n",
        "            cut += batch_size  \n",
        "\n",
        "X_train_use = use_embed(X_train,100000,len(X_train))\n",
        "X_test_use = use_embed(X_test,100000,len(X_test))\n",
        "\n",
        "X_train_use_sent = np.concatenate((X_train_use, X_train_sent), axis=1)\n",
        "X_test_use_sent = np.concatenate((X_test_use, X_test_sent), axis=1)"
      ]
    },
    {
      "cell_type": "markdown",
      "source": [
        "# BERT\n"
      ],
      "metadata": {
        "id": "PFzygvZ_vN32"
      }
    },
    {
      "cell_type": "code",
      "source": [
        "mbti['map_type'] = pd.factorize(mbti['type'])[0]\n",
        "mbti"
      ],
      "metadata": {
        "colab": {
          "base_uri": "https://localhost:8080/",
          "height": 424
        },
        "id": "CwjqhqAJvQSm",
        "outputId": "28fa5838-ec61-41d6-bef5-01b57a5ac24c"
      },
      "execution_count": null,
      "outputs": [
        {
          "output_type": "execute_result",
          "data": {
            "text/html": [
              "\n",
              "  <div id=\"df-5bee732e-f999-453c-ab31-3ec9818e3ab2\">\n",
              "    <div class=\"colab-df-container\">\n",
              "      <div>\n",
              "<style scoped>\n",
              "    .dataframe tbody tr th:only-of-type {\n",
              "        vertical-align: middle;\n",
              "    }\n",
              "\n",
              "    .dataframe tbody tr th {\n",
              "        vertical-align: top;\n",
              "    }\n",
              "\n",
              "    .dataframe thead th {\n",
              "        text-align: right;\n",
              "    }\n",
              "</style>\n",
              "<table border=\"1\" class=\"dataframe\">\n",
              "  <thead>\n",
              "    <tr style=\"text-align: right;\">\n",
              "      <th></th>\n",
              "      <th>type</th>\n",
              "      <th>post</th>\n",
              "      <th>sentiment</th>\n",
              "      <th>sent_compound</th>\n",
              "      <th>sent_neg</th>\n",
              "      <th>sent_neu</th>\n",
              "      <th>sent_pos</th>\n",
              "      <th>e/i</th>\n",
              "      <th>s/n</th>\n",
              "      <th>t/f</th>\n",
              "      <th>j/p</th>\n",
              "      <th>word_count</th>\n",
              "      <th>map_type</th>\n",
              "    </tr>\n",
              "  </thead>\n",
              "  <tbody>\n",
              "    <tr>\n",
              "      <th>0</th>\n",
              "      <td>estj</td>\n",
              "      <td>first hate use cell phone ever get contact sec...</td>\n",
              "      <td>0</td>\n",
              "      <td>-0.1280</td>\n",
              "      <td>0.086</td>\n",
              "      <td>0.839</td>\n",
              "      <td>0.075</td>\n",
              "      <td>0</td>\n",
              "      <td>0</td>\n",
              "      <td>0</td>\n",
              "      <td>0</td>\n",
              "      <td>11</td>\n",
              "      <td>0</td>\n",
              "    </tr>\n",
              "    <tr>\n",
              "      <th>1</th>\n",
              "      <td>estj</td>\n",
              "      <td>think much easier female istp male estj way wo...</td>\n",
              "      <td>1</td>\n",
              "      <td>0.5994</td>\n",
              "      <td>0.000</td>\n",
              "      <td>0.803</td>\n",
              "      <td>0.197</td>\n",
              "      <td>0</td>\n",
              "      <td>0</td>\n",
              "      <td>0</td>\n",
              "      <td>0</td>\n",
              "      <td>11</td>\n",
              "      <td>0</td>\n",
              "    </tr>\n",
              "    <tr>\n",
              "      <th>2</th>\n",
              "      <td>estj</td>\n",
              "      <td>precursor really writing unless confused attem...</td>\n",
              "      <td>0</td>\n",
              "      <td>-0.5423</td>\n",
              "      <td>0.153</td>\n",
              "      <td>0.847</td>\n",
              "      <td>0.000</td>\n",
              "      <td>0</td>\n",
              "      <td>0</td>\n",
              "      <td>0</td>\n",
              "      <td>0</td>\n",
              "      <td>11</td>\n",
              "      <td>0</td>\n",
              "    </tr>\n",
              "    <tr>\n",
              "      <th>3</th>\n",
              "      <td>estj</td>\n",
              "      <td>think people get you like offer answer already...</td>\n",
              "      <td>0</td>\n",
              "      <td>-0.6608</td>\n",
              "      <td>0.172</td>\n",
              "      <td>0.828</td>\n",
              "      <td>0.000</td>\n",
              "      <td>0</td>\n",
              "      <td>0</td>\n",
              "      <td>0</td>\n",
              "      <td>0</td>\n",
              "      <td>11</td>\n",
              "      <td>0</td>\n",
              "    </tr>\n",
              "    <tr>\n",
              "      <th>4</th>\n",
              "      <td>estj</td>\n",
              "      <td>betrayed friend felt like garbage bad flutters...</td>\n",
              "      <td>0</td>\n",
              "      <td>-0.6808</td>\n",
              "      <td>0.297</td>\n",
              "      <td>0.478</td>\n",
              "      <td>0.225</td>\n",
              "      <td>0</td>\n",
              "      <td>0</td>\n",
              "      <td>0</td>\n",
              "      <td>0</td>\n",
              "      <td>11</td>\n",
              "      <td>0</td>\n",
              "    </tr>\n",
              "    <tr>\n",
              "      <th>...</th>\n",
              "      <td>...</td>\n",
              "      <td>...</td>\n",
              "      <td>...</td>\n",
              "      <td>...</td>\n",
              "      <td>...</td>\n",
              "      <td>...</td>\n",
              "      <td>...</td>\n",
              "      <td>...</td>\n",
              "      <td>...</td>\n",
              "      <td>...</td>\n",
              "      <td>...</td>\n",
              "      <td>...</td>\n",
              "      <td>...</td>\n",
              "    </tr>\n",
              "    <tr>\n",
              "      <th>19483</th>\n",
              "      <td>isfp</td>\n",
              "      <td>french version voila petite amelie vous n'avez...</td>\n",
              "      <td>1</td>\n",
              "      <td>0.2500</td>\n",
              "      <td>0.000</td>\n",
              "      <td>0.944</td>\n",
              "      <td>0.056</td>\n",
              "      <td>1</td>\n",
              "      <td>0</td>\n",
              "      <td>1</td>\n",
              "      <td>1</td>\n",
              "      <td>31</td>\n",
              "      <td>8</td>\n",
              "    </tr>\n",
              "    <tr>\n",
              "      <th>19484</th>\n",
              "      <td>entp</td>\n",
              "      <td>som synden sveper han forbi latt att alska sta...</td>\n",
              "      <td>1</td>\n",
              "      <td>0.1027</td>\n",
              "      <td>0.064</td>\n",
              "      <td>0.864</td>\n",
              "      <td>0.073</td>\n",
              "      <td>0</td>\n",
              "      <td>1</td>\n",
              "      <td>0</td>\n",
              "      <td>1</td>\n",
              "      <td>32</td>\n",
              "      <td>10</td>\n",
              "    </tr>\n",
              "    <tr>\n",
              "      <th>19485</th>\n",
              "      <td>intp</td>\n",
              "      <td>Si Ye Du Shi Yi Yan Wang Bu Dao Tou De Man Bai...</td>\n",
              "      <td>1</td>\n",
              "      <td>0.8508</td>\n",
              "      <td>0.000</td>\n",
              "      <td>0.659</td>\n",
              "      <td>0.341</td>\n",
              "      <td>1</td>\n",
              "      <td>1</td>\n",
              "      <td>0</td>\n",
              "      <td>1</td>\n",
              "      <td>32</td>\n",
              "      <td>13</td>\n",
              "    </tr>\n",
              "    <tr>\n",
              "      <th>19486</th>\n",
              "      <td>estj</td>\n",
              "      <td>b c d e f g h j k l m n o p q r t you v w x y ...</td>\n",
              "      <td>0</td>\n",
              "      <td>-0.5106</td>\n",
              "      <td>0.125</td>\n",
              "      <td>0.818</td>\n",
              "      <td>0.057</td>\n",
              "      <td>0</td>\n",
              "      <td>0</td>\n",
              "      <td>0</td>\n",
              "      <td>0</td>\n",
              "      <td>33</td>\n",
              "      <td>0</td>\n",
              "    </tr>\n",
              "    <tr>\n",
              "      <th>19487</th>\n",
              "      <td>enfp</td>\n",
              "      <td>aaaaaaah naa koy dugo run sakita sa likod di k...</td>\n",
              "      <td>0</td>\n",
              "      <td>0.0000</td>\n",
              "      <td>0.000</td>\n",
              "      <td>1.000</td>\n",
              "      <td>0.000</td>\n",
              "      <td>0</td>\n",
              "      <td>1</td>\n",
              "      <td>1</td>\n",
              "      <td>1</td>\n",
              "      <td>36</td>\n",
              "      <td>11</td>\n",
              "    </tr>\n",
              "  </tbody>\n",
              "</table>\n",
              "<p>19485 rows × 13 columns</p>\n",
              "</div>\n",
              "      <button class=\"colab-df-convert\" onclick=\"convertToInteractive('df-5bee732e-f999-453c-ab31-3ec9818e3ab2')\"\n",
              "              title=\"Convert this dataframe to an interactive table.\"\n",
              "              style=\"display:none;\">\n",
              "        \n",
              "  <svg xmlns=\"http://www.w3.org/2000/svg\" height=\"24px\"viewBox=\"0 0 24 24\"\n",
              "       width=\"24px\">\n",
              "    <path d=\"M0 0h24v24H0V0z\" fill=\"none\"/>\n",
              "    <path d=\"M18.56 5.44l.94 2.06.94-2.06 2.06-.94-2.06-.94-.94-2.06-.94 2.06-2.06.94zm-11 1L8.5 8.5l.94-2.06 2.06-.94-2.06-.94L8.5 2.5l-.94 2.06-2.06.94zm10 10l.94 2.06.94-2.06 2.06-.94-2.06-.94-.94-2.06-.94 2.06-2.06.94z\"/><path d=\"M17.41 7.96l-1.37-1.37c-.4-.4-.92-.59-1.43-.59-.52 0-1.04.2-1.43.59L10.3 9.45l-7.72 7.72c-.78.78-.78 2.05 0 2.83L4 21.41c.39.39.9.59 1.41.59.51 0 1.02-.2 1.41-.59l7.78-7.78 2.81-2.81c.8-.78.8-2.07 0-2.86zM5.41 20L4 18.59l7.72-7.72 1.47 1.35L5.41 20z\"/>\n",
              "  </svg>\n",
              "      </button>\n",
              "      \n",
              "  <style>\n",
              "    .colab-df-container {\n",
              "      display:flex;\n",
              "      flex-wrap:wrap;\n",
              "      gap: 12px;\n",
              "    }\n",
              "\n",
              "    .colab-df-convert {\n",
              "      background-color: #E8F0FE;\n",
              "      border: none;\n",
              "      border-radius: 50%;\n",
              "      cursor: pointer;\n",
              "      display: none;\n",
              "      fill: #1967D2;\n",
              "      height: 32px;\n",
              "      padding: 0 0 0 0;\n",
              "      width: 32px;\n",
              "    }\n",
              "\n",
              "    .colab-df-convert:hover {\n",
              "      background-color: #E2EBFA;\n",
              "      box-shadow: 0px 1px 2px rgba(60, 64, 67, 0.3), 0px 1px 3px 1px rgba(60, 64, 67, 0.15);\n",
              "      fill: #174EA6;\n",
              "    }\n",
              "\n",
              "    [theme=dark] .colab-df-convert {\n",
              "      background-color: #3B4455;\n",
              "      fill: #D2E3FC;\n",
              "    }\n",
              "\n",
              "    [theme=dark] .colab-df-convert:hover {\n",
              "      background-color: #434B5C;\n",
              "      box-shadow: 0px 1px 3px 1px rgba(0, 0, 0, 0.15);\n",
              "      filter: drop-shadow(0px 1px 2px rgba(0, 0, 0, 0.3));\n",
              "      fill: #FFFFFF;\n",
              "    }\n",
              "  </style>\n",
              "\n",
              "      <script>\n",
              "        const buttonEl =\n",
              "          document.querySelector('#df-5bee732e-f999-453c-ab31-3ec9818e3ab2 button.colab-df-convert');\n",
              "        buttonEl.style.display =\n",
              "          google.colab.kernel.accessAllowed ? 'block' : 'none';\n",
              "\n",
              "        async function convertToInteractive(key) {\n",
              "          const element = document.querySelector('#df-5bee732e-f999-453c-ab31-3ec9818e3ab2');\n",
              "          const dataTable =\n",
              "            await google.colab.kernel.invokeFunction('convertToInteractive',\n",
              "                                                     [key], {});\n",
              "          if (!dataTable) return;\n",
              "\n",
              "          const docLinkHtml = 'Like what you see? Visit the ' +\n",
              "            '<a target=\"_blank\" href=https://colab.research.google.com/notebooks/data_table.ipynb>data table notebook</a>'\n",
              "            + ' to learn more about interactive tables.';\n",
              "          element.innerHTML = '';\n",
              "          dataTable['output_type'] = 'display_data';\n",
              "          await google.colab.output.renderOutput(dataTable, element);\n",
              "          const docLink = document.createElement('div');\n",
              "          docLink.innerHTML = docLinkHtml;\n",
              "          element.appendChild(docLink);\n",
              "        }\n",
              "      </script>\n",
              "    </div>\n",
              "  </div>\n",
              "  "
            ],
            "text/plain": [
              "       type  ... map_type\n",
              "0      estj  ...        0\n",
              "1      estj  ...        0\n",
              "2      estj  ...        0\n",
              "3      estj  ...        0\n",
              "4      estj  ...        0\n",
              "...     ...  ...      ...\n",
              "19483  isfp  ...        8\n",
              "19484  entp  ...       10\n",
              "19485  intp  ...       13\n",
              "19486  estj  ...        0\n",
              "19487  enfp  ...       11\n",
              "\n",
              "[19485 rows x 13 columns]"
            ]
          },
          "metadata": {},
          "execution_count": 50
        }
      ]
    },
    {
      "cell_type": "code",
      "source": [
        "!pip install transformers"
      ],
      "metadata": {
        "id": "LCSJZpZKxU_h",
        "colab": {
          "base_uri": "https://localhost:8080/"
        },
        "outputId": "7587c796-1177-478d-be20-63f036c45194"
      },
      "execution_count": null,
      "outputs": [
        {
          "output_type": "stream",
          "name": "stdout",
          "text": [
            "Requirement already satisfied: transformers in /usr/local/lib/python3.7/dist-packages (4.15.0)\n",
            "Requirement already satisfied: tqdm>=4.27 in /usr/local/lib/python3.7/dist-packages (from transformers) (4.62.3)\n",
            "Requirement already satisfied: sacremoses in /usr/local/lib/python3.7/dist-packages (from transformers) (0.0.47)\n",
            "Requirement already satisfied: filelock in /usr/local/lib/python3.7/dist-packages (from transformers) (3.4.2)\n",
            "Requirement already satisfied: packaging>=20.0 in /usr/local/lib/python3.7/dist-packages (from transformers) (21.3)\n",
            "Requirement already satisfied: pyyaml>=5.1 in /usr/local/lib/python3.7/dist-packages (from transformers) (6.0)\n",
            "Requirement already satisfied: huggingface-hub<1.0,>=0.1.0 in /usr/local/lib/python3.7/dist-packages (from transformers) (0.4.0)\n",
            "Requirement already satisfied: regex!=2019.12.17 in /usr/local/lib/python3.7/dist-packages (from transformers) (2019.12.20)\n",
            "Requirement already satisfied: requests in /usr/local/lib/python3.7/dist-packages (from transformers) (2.23.0)\n",
            "Requirement already satisfied: tokenizers<0.11,>=0.10.1 in /usr/local/lib/python3.7/dist-packages (from transformers) (0.10.3)\n",
            "Requirement already satisfied: numpy>=1.17 in /usr/local/lib/python3.7/dist-packages (from transformers) (1.19.5)\n",
            "Requirement already satisfied: importlib-metadata in /usr/local/lib/python3.7/dist-packages (from transformers) (4.10.0)\n",
            "Requirement already satisfied: typing-extensions>=3.7.4.3 in /usr/local/lib/python3.7/dist-packages (from huggingface-hub<1.0,>=0.1.0->transformers) (3.10.0.2)\n",
            "Requirement already satisfied: pyparsing!=3.0.5,>=2.0.2 in /usr/local/lib/python3.7/dist-packages (from packaging>=20.0->transformers) (3.0.6)\n",
            "Requirement already satisfied: zipp>=0.5 in /usr/local/lib/python3.7/dist-packages (from importlib-metadata->transformers) (3.7.0)\n",
            "Requirement already satisfied: idna<3,>=2.5 in /usr/local/lib/python3.7/dist-packages (from requests->transformers) (2.10)\n",
            "Requirement already satisfied: urllib3!=1.25.0,!=1.25.1,<1.26,>=1.21.1 in /usr/local/lib/python3.7/dist-packages (from requests->transformers) (1.24.3)\n",
            "Requirement already satisfied: chardet<4,>=3.0.2 in /usr/local/lib/python3.7/dist-packages (from requests->transformers) (3.0.4)\n",
            "Requirement already satisfied: certifi>=2017.4.17 in /usr/local/lib/python3.7/dist-packages (from requests->transformers) (2021.10.8)\n",
            "Requirement already satisfied: click in /usr/local/lib/python3.7/dist-packages (from sacremoses->transformers) (7.1.2)\n",
            "Requirement already satisfied: joblib in /usr/local/lib/python3.7/dist-packages (from sacremoses->transformers) (1.1.0)\n",
            "Requirement already satisfied: six in /usr/local/lib/python3.7/dist-packages (from sacremoses->transformers) (1.15.0)\n"
          ]
        }
      ]
    },
    {
      "cell_type": "code",
      "source": [
        "from transformers import AutoTokenizer\n",
        "tokenizer = AutoTokenizer.from_pretrained('bert-base-uncased')"
      ],
      "metadata": {
        "id": "Z_kPjhDCw2Iq"
      },
      "execution_count": null,
      "outputs": []
    },
    {
      "cell_type": "code",
      "source": [
        "SEQ_LEN = 26  # we will cut/pad our sequences to a length of 26 tokens\n",
        "\n",
        "def tokenize(sentence):\n",
        "    tokens = tokenizer.encode_plus(sentence, max_length=SEQ_LEN,\n",
        "                                   truncation=True, padding='max_length',\n",
        "                                   add_special_tokens=True, return_attention_mask=True,\n",
        "                                   return_token_type_ids=False, return_tensors='tf')\n",
        "    return tokens['input_ids'], tokens['attention_mask']\n",
        "\n",
        "# initialize two arrays for input tensors\n",
        "Xids = np.zeros((len(mbti), SEQ_LEN))\n",
        "Xmask = np.zeros((len(mbti), SEQ_LEN))\n",
        "\n",
        "for i, sentence in enumerate(mbti['post']):\n",
        "    Xids[i, :], Xmask[i, :] = tokenize(sentence)\n",
        "    if i % 10000 == 0:\n",
        "        print(i)  # do this so we can see some progress\n",
        "\n",
        "\n",
        "arr = mbti['t/f'].values  # take sentiment column in df as array\n",
        "labels = np.zeros((arr.size, arr.max()+1))  # initialize empty (all zero) label array\n",
        "labels[np.arange(arr.size), arr] = 1  # add ones in indices where we have a value        "
      ],
      "metadata": {
        "colab": {
          "base_uri": "https://localhost:8080/"
        },
        "id": "Oy7DEnQMxq_N",
        "outputId": "58a81051-7eb2-4ff5-975d-e23861ffa2be"
      },
      "execution_count": null,
      "outputs": [
        {
          "output_type": "stream",
          "name": "stdout",
          "text": [
            "0\n",
            "10000\n"
          ]
        }
      ]
    },
    {
      "cell_type": "code",
      "source": [
        "import tensorflow as tf\n",
        "\n",
        "BATCH_SIZE = 32  # we will use batches of 32\n",
        "\n",
        "# load arrays into tensorflow dataset\n",
        "dataset = tf.data.Dataset.from_tensor_slices((Xids, Xmask, labels))\n",
        "\n",
        "# create a mapping function that we use to restructure our dataset\n",
        "def map_func(input_ids, masks, labels):\n",
        "    return {'input_ids': input_ids, 'attention_mask': masks}, labels\n",
        "\n",
        "# using map method to apply map_func to dataset\n",
        "dataset = dataset.map(map_func)\n",
        "\n",
        "# shuffle data and batch it\n",
        "dataset = dataset.shuffle(1000000).batch(BATCH_SIZE)\n",
        "# get the length of the batched dataset\n",
        "DS_LEN = len([0 for batch in dataset])\n",
        "SPLIT = 0.9  # 90-10 split\n",
        "\n",
        "train = dataset.take(round(DS_LEN*SPLIT))  # get first 90% of batches\n",
        "val = dataset.skip(round(DS_LEN*SPLIT))  # skip first 90% and keep final 10%\n",
        "\n",
        "del dataset  # optionally, delete dataset to free up disk-space"
      ],
      "metadata": {
        "id": "XEhIJG-WyYL-"
      },
      "execution_count": null,
      "outputs": []
    },
    {
      "cell_type": "code",
      "source": [
        "from transformers import TFAutoModel\n",
        "\n",
        "# initialize cased BERT model\n",
        "bert = TFAutoModel.from_pretrained('bert-base-uncased')\n",
        "\n"
      ],
      "metadata": {
        "colab": {
          "base_uri": "https://localhost:8080/"
        },
        "id": "hZ8OZtqtywUL",
        "outputId": "3a3ffeff-d32f-468d-90d4-6adc9811fbef"
      },
      "execution_count": null,
      "outputs": [
        {
          "output_type": "stream",
          "name": "stderr",
          "text": [
            "Some layers from the model checkpoint at bert-base-uncased were not used when initializing TFBertModel: ['mlm___cls', 'nsp___cls']\n",
            "- This IS expected if you are initializing TFBertModel from the checkpoint of a model trained on another task or with another architecture (e.g. initializing a BertForSequenceClassification model from a BertForPreTraining model).\n",
            "- This IS NOT expected if you are initializing TFBertModel from the checkpoint of a model that you expect to be exactly identical (initializing a BertForSequenceClassification model from a BertForSequenceClassification model).\n",
            "All the layers of TFBertModel were initialized from the model checkpoint at bert-base-uncased.\n",
            "If your task is similar to the task the model of the checkpoint was trained on, you can already use TFBertModel for predictions without further training.\n"
          ]
        }
      ]
    },
    {
      "cell_type": "code",
      "source": [
        "input_ids = tf.keras.layers.Input(shape=(SEQ_LEN,), name='input_ids', dtype='int32')\n",
        "mask = tf.keras.layers.Input(shape=(SEQ_LEN,), name='attention_mask', dtype='int32')\n",
        "\n",
        "# we consume the last_hidden_state tensor from bert (discarding pooled_outputs)\n",
        "embeddings = bert(input_ids, attention_mask=mask)[0]\n",
        "\n",
        "X = tf.keras.layers.LSTM(64)(embeddings)\n",
        "X = tf.keras.layers.BatchNormalization()(X)\n",
        "X = tf.keras.layers.Dense(64, activation='relu')(X)\n",
        "X = tf.keras.layers.Dropout(0.4)(X)\n",
        "y = tf.keras.layers.Dense(2, activation='sigmoid', name='outputs')(X)\n",
        "\n",
        "# define input and output layers of our model\n",
        "model = tf.keras.Model(inputs=[input_ids, mask], outputs=y)\n",
        "\n",
        "# freeze the BERT layer - otherwise we will be training 100M+ parameters...\n",
        "model.layers[2].trainable = False"
      ],
      "metadata": {
        "id": "aw2jw999z6iR"
      },
      "execution_count": null,
      "outputs": []
    },
    {
      "cell_type": "code",
      "source": [
        "model.summary()"
      ],
      "metadata": {
        "id": "Rh8JSirdslt-",
        "colab": {
          "base_uri": "https://localhost:8080/"
        },
        "outputId": "22334a5f-4bd5-4e56-863d-ea1b4010e360"
      },
      "execution_count": null,
      "outputs": [
        {
          "output_type": "stream",
          "name": "stdout",
          "text": [
            "Model: \"model_6\"\n",
            "__________________________________________________________________________________________________\n",
            " Layer (type)                   Output Shape         Param #     Connected to                     \n",
            "==================================================================================================\n",
            " input_ids (InputLayer)         [(None, 26)]         0           []                               \n",
            "                                                                                                  \n",
            " attention_mask (InputLayer)    [(None, 26)]         0           []                               \n",
            "                                                                                                  \n",
            " tf_bert_model_3 (TFBertModel)  TFBaseModelOutputWi  109482240   ['input_ids[0][0]',              \n",
            "                                thPoolingAndCrossAt               'attention_mask[0][0]']         \n",
            "                                tentions(last_hidde                                               \n",
            "                                n_state=(None, 26,                                                \n",
            "                                768),                                                             \n",
            "                                 pooler_output=(Non                                               \n",
            "                                e, 768),                                                          \n",
            "                                 past_key_values=No                                               \n",
            "                                ne, hidden_states=N                                               \n",
            "                                one, attentions=Non                                               \n",
            "                                e, cross_attentions                                               \n",
            "                                =None)                                                            \n",
            "                                                                                                  \n",
            " lstm_6 (LSTM)                  (None, 64)           213248      ['tf_bert_model_3[1][0]']        \n",
            "                                                                                                  \n",
            " dense_6 (Dense)                (None, 32)           2080        ['lstm_6[0][0]']                 \n",
            "                                                                                                  \n",
            " dropout_154 (Dropout)          (None, 32)           0           ['dense_6[0][0]']                \n",
            "                                                                                                  \n",
            " dense_7 (Dense)                (None, 64)           2112        ['dropout_154[0][0]']            \n",
            "                                                                                                  \n",
            " dropout_155 (Dropout)          (None, 64)           0           ['dense_7[0][0]']                \n",
            "                                                                                                  \n",
            " outputs (Dense)                (None, 2)            130         ['dropout_155[0][0]']            \n",
            "                                                                                                  \n",
            "==================================================================================================\n",
            "Total params: 109,699,810\n",
            "Trainable params: 217,570\n",
            "Non-trainable params: 109,482,240\n",
            "__________________________________________________________________________________________________\n"
          ]
        }
      ]
    },
    {
      "cell_type": "code",
      "source": [
        "optimizer = tf.keras.optimizers.Adam(0.01)\n",
        "loss = tf.keras.losses.BinaryCrossentropy()  # categorical = one-hot\n",
        "acc = tf.keras.metrics.BinaryAccuracy('accuracy')\n",
        "\n",
        "model.compile(optimizer=optimizer, loss=loss, metrics=[acc])\n",
        "\n",
        "history = model.fit(train, validation_data=val, epochs=100)"
      ],
      "metadata": {
        "id": "VBIXULFxzwrI"
      },
      "execution_count": null,
      "outputs": []
    },
    {
      "cell_type": "code",
      "source": [
        "temp = []\n",
        "for i in val.take(62):\n",
        "    for y in i[1]:\n",
        "        temp.append(np.array(y))\n",
        "labels = np.zeros((len(temp), 2))\n",
        "for idx, label in enumerate(temp):\n",
        "    labels[idx,:] = temp[idx]  \n",
        "\n",
        "pred = model.predict(val)  \n",
        "labels = [1 if i[1] == 1 else 0 for i in labels]\n",
        "pred = [1 if i[1] >= 0.5 else 0 for i in pred]\n",
        "# print(f\"F1 score: {metrics.f1_score(y_test, pred, average='micro').round(2)}\")\n",
        "# print(f\"Accuracy: {(100*metrics.accuracy_score(y_test, pred)).round(2)} %\")\n",
        "conf_mat = metrics.confusion_matrix(labels, pred)\n",
        "sns.heatmap(conf_mat, square=True, annot=True, cmap='Blues', fmt='d', cbar=False)"
      ],
      "metadata": {
        "id": "cXTRjNTvQvcy"
      },
      "execution_count": null,
      "outputs": []
    },
    {
      "cell_type": "code",
      "source": [
        "plt.plot(history.history['val_accuracy'], label = 'val-accuracy')\n",
        "plt.plot(history.history['accuracy'], label = 'accuracy')\n",
        "plt.plot(history.history['loss'], label = 'loss')\n",
        "plt.plot(history.history['val_loss'], label = 'val-loss')\n",
        "plt.legend()\n",
        "plt.grid()"
      ],
      "metadata": {
        "id": "F7CAnxqEx2XO"
      },
      "execution_count": null,
      "outputs": []
    },
    {
      "cell_type": "code",
      "source": [
        "print(model.evaluate(val, return_dict=True))"
      ],
      "metadata": {
        "id": "kALzRJz1YP9r"
      },
      "execution_count": null,
      "outputs": []
    },
    {
      "cell_type": "code",
      "source": [
        "print(np.mean(history.history['loss']))\n",
        "print(np.mean(history.history['accuracy']))\n"
      ],
      "metadata": {
        "id": "ci4SETf-QRad"
      },
      "execution_count": null,
      "outputs": []
    },
    {
      "cell_type": "code",
      "source": [
        "tf.saved_model.save(model, '/content/drive/MyDrive/thesis/model_e_i')"
      ],
      "metadata": {
        "id": "dBeYZR88r4TG",
        "colab": {
          "base_uri": "https://localhost:8080/"
        },
        "outputId": "b386a37f-4576-454f-e2e8-6d554dc7afbc"
      },
      "execution_count": null,
      "outputs": [
        {
          "output_type": "stream",
          "name": "stderr",
          "text": [
            "WARNING:absl:Found untraced functions such as lstm_cell_layer_call_fn, lstm_cell_layer_call_and_return_conditional_losses, embeddings_layer_call_fn, embeddings_layer_call_and_return_conditional_losses, encoder_layer_call_fn while saving (showing 5 of 1055). These functions will not be directly callable after loading.\n"
          ]
        },
        {
          "output_type": "stream",
          "name": "stdout",
          "text": [
            "INFO:tensorflow:Assets written to: /content/drive/MyDrive/thesis/model_e_i.h5/assets\n"
          ]
        },
        {
          "output_type": "stream",
          "name": "stderr",
          "text": [
            "INFO:tensorflow:Assets written to: /content/drive/MyDrive/thesis/model_e_i.h5/assets\n"
          ]
        }
      ]
    },
    {
      "cell_type": "code",
      "source": [
        "from keras.models import load_model\n",
        "loaded_model =  tf.saved_model.load(\"/content/drive/MyDrive/thesis/model_e_i\")"
      ],
      "metadata": {
        "id": "cgSvbV508giT"
      },
      "execution_count": null,
      "outputs": []
    },
    {
      "cell_type": "markdown",
      "source": [
        "#Plots"
      ],
      "metadata": {
        "id": "Ba6LwCXYh8Mz"
      }
    },
    {
      "cell_type": "code",
      "source": [
        "from sklearn.decomposition import PCA\n",
        "from sklearn.decomposition import TruncatedSVD\n",
        "def scatter_3d(X,y,tp):\n",
        "    pca = PCA(n_components=3)\n",
        "    svd = TruncatedSVD(n_components=3)\n",
        "    if tp == \"pca\":\n",
        "        model = pca\n",
        "    else:\n",
        "        model = svd    \n",
        "    result = model.fit_transform(X)\n",
        "    ax = plt.figure(figsize=(16,10)).gca(projection='3d')\n",
        "    ax.scatter(\n",
        "        xs= result[:,0],\n",
        "        ys= result[:,1],\n",
        "        zs= result[:,2],\n",
        "        c= y,\n",
        "        cmap='tab10'\n",
        "    )\n",
        "    ax.set_xlabel('one')\n",
        "    ax.set_ylabel('two')\n",
        "    ax.set_zlabel('three')\n",
        "    plt.show()\n",
        "\n",
        "\n"
      ],
      "metadata": {
        "id": "U-QDGuXQZ6Ae"
      },
      "execution_count": null,
      "outputs": []
    },
    {
      "cell_type": "code",
      "source": [
        "scatter_3d(X_train_use_sent, y_train, \"pca\")"
      ],
      "metadata": {
        "id": "qyHLQj3dc2t7",
        "colab": {
          "base_uri": "https://localhost:8080/",
          "height": 575
        },
        "outputId": "a820796c-4893-40e5-bf67-c406649e24de"
      },
      "execution_count": null,
      "outputs": [
        {
          "output_type": "display_data",
          "data": {
            "image/png": "[encoded data removed]",
            "text/plain": [
              "<Figure size 1152x720 with 1 Axes>"
            ]
          },
          "metadata": {
            "needs_background": "light"
          }
        }
      ]
    },
    {
      "cell_type": "code",
      "source": [
        "scatter_3d(X_test_bow, y_test, \"svd\")"
      ],
      "metadata": {
        "id": "5zMd4yxNemtM"
      },
      "execution_count": null,
      "outputs": []
    },
    {
      "cell_type": "markdown",
      "metadata": {
        "id": "nK19QOP5oxvQ"
      },
      "source": [
        "# Classify"
      ]
    },
    {
      "cell_type": "code",
      "execution_count": null,
      "metadata": {
        "id": "L2RTG6opSsly"
      },
      "outputs": [],
      "source": [
        "def classify(model, X_train, X_test, y_train, y_test):\n",
        "    model.fit(X_train, y_train)\n",
        "    # predict labels of test set\n",
        "    pred = model.predict(X_test)\n",
        "    # print the results\n",
        "    print(f\"F1 score: {metrics.f1_score(y_test, pred, average='micro').round(2)}\")\n",
        "    print(f\"Accuracy: {(100*metrics.accuracy_score(y_test, pred)).round(2)} %\")\n",
        "    conf_mat = metrics.confusion_matrix(y_test, pred)\n",
        "    sns.heatmap(conf_mat, square=True, annot=True, cmap='Blues', fmt='d', cbar=False)"
      ]
    },
    {
      "cell_type": "markdown",
      "metadata": {
        "id": "eND31f3TVNWK"
      },
      "source": [
        "##LogReg - SVM - RandomForrest - GaussianNB - MultinomialNB"
      ]
    },
    {
      "cell_type": "code",
      "execution_count": null,
      "metadata": {
        "id": "EroUQt2-Z4zH"
      },
      "outputs": [],
      "source": [
        "from sklearn.linear_model import LogisticRegression\n",
        "from sklearn.svm import SVC\n",
        "from sklearn.ensemble import RandomForestClassifier\n",
        "from sklearn.naive_bayes import MultinomialNB\n",
        "from sklearn.naive_bayes import GaussianNB\n",
        "\n",
        "gauss = GaussianNB()\n",
        "mult = MultinomialNB()\n",
        "logReg = LogisticRegression(max_iter=1000)\n",
        "svm = SVC()\n",
        "randForest = RandomForestClassifier(n_jobs=-1)"
      ]
    },
    {
      "cell_type": "code",
      "execution_count": null,
      "metadata": {
        "id": "5EDyQ3vXR3q-",
        "colab": {
          "base_uri": "https://localhost:8080/",
          "height": 300
        },
        "outputId": "814b9d63-cca1-42f9-84e0-70411c3be4f6"
      },
      "outputs": [
        {
          "output_type": "stream",
          "name": "stdout",
          "text": [
            "F1 score: 0.65\n",
            "Accuracy: 65.02 %\n"
          ]
        },
        {
          "output_type": "display_data",
          "data": {
            "image/png": "[encoded data removed]",
            "text/plain": [
              "<Figure size 432x288 with 1 Axes>"
            ]
          },
          "metadata": {
            "needs_background": "light"
          }
        }
      ],
      "source": [
        "classify(logReg, X_train_use_sent, X_test_use_sent, y_train, y_test) #for e/i"
      ]
    },
    {
      "cell_type": "code",
      "execution_count": null,
      "metadata": {
        "id": "K_KNvblSGhe5",
        "colab": {
          "base_uri": "https://localhost:8080/",
          "height": 300
        },
        "outputId": "ff17cca3-ccd6-4068-f6fe-785981c1448f"
      },
      "outputs": [
        {
          "output_type": "stream",
          "name": "stdout",
          "text": [
            "F1 score: 0.66\n",
            "Accuracy: 65.7 %\n"
          ]
        },
        {
          "output_type": "display_data",
          "data": {
            "image/png": "[encoded data removed]",
            "text/plain": [
              "<Figure size 432x288 with 1 Axes>"
            ]
          },
          "metadata": {
            "needs_background": "light"
          }
        }
      ],
      "source": [
        "classify(logReg, X_train_use_sent, X_test_use_sent, y_train, y_test) #for s/n"
      ]
    },
    {
      "cell_type": "code",
      "execution_count": null,
      "metadata": {
        "id": "wtY65lG_GqKb",
        "colab": {
          "base_uri": "https://localhost:8080/",
          "height": 300
        },
        "outputId": "371c5488-852c-4b56-92fc-ae08ed58456e"
      },
      "outputs": [
        {
          "output_type": "stream",
          "name": "stdout",
          "text": [
            "F1 score: 0.58\n",
            "Accuracy: 58.07 %\n"
          ]
        },
        {
          "output_type": "display_data",
          "data": {
            "image/png": "[encoded data removed]",
            "text/plain": [
              "<Figure size 432x288 with 1 Axes>"
            ]
          },
          "metadata": {
            "needs_background": "light"
          }
        }
      ],
      "source": [
        "classify(logReg, X_train_use_sent, X_test_use_sent, y_train, y_test) #for t/f"
      ]
    },
    {
      "cell_type": "code",
      "execution_count": null,
      "metadata": {
        "id": "n6hxaoMHqDxA",
        "colab": {
          "base_uri": "https://localhost:8080/",
          "height": 300
        },
        "outputId": "b3aeedc6-2692-4291-e016-5400354ec4f4"
      },
      "outputs": [
        {
          "output_type": "stream",
          "name": "stdout",
          "text": [
            "F1 score: 0.56\n",
            "Accuracy: 56.49 %\n"
          ]
        },
        {
          "output_type": "display_data",
          "data": {
            "image/png": "[encoded data removed]",
            "text/plain": [
              "<Figure size 432x288 with 1 Axes>"
            ]
          },
          "metadata": {
            "needs_background": "light"
          }
        }
      ],
      "source": [
        "classify(logReg, X_train_use_sent, X_test_use_sent, y_train, y_test) #for j/p"
      ]
    },
    {
      "cell_type": "markdown",
      "source": [
        "Average = 61.32%"
      ],
      "metadata": {
        "id": "ZR3jx-qR8Wae"
      }
    },
    {
      "cell_type": "markdown",
      "metadata": {
        "id": "qumkvTWhVP5q"
      },
      "source": [
        "##Gradient Boosting"
      ]
    },
    {
      "cell_type": "code",
      "execution_count": null,
      "metadata": {
        "id": "5-Q6DUVRpa5-"
      },
      "outputs": [],
      "source": [
        "from sklearn.ensemble import GradientBoostingClassifier\n",
        "from sklearn.model_selection import GridSearchCV\n",
        "from sklearn.metrics import roc_auc_score\n",
        "\n",
        "model_gbm = GradientBoostingClassifier(n_estimators=5000,\n",
        "                                       learning_rate=0.0125,\n",
        "                                       max_depth=4,\n",
        "                                       subsample=0.5,\n",
        "                                       validation_fraction=0.1,\n",
        "                                       n_iter_no_change=30,\n",
        "                                       max_features='log2',\n",
        "                                       verbose=1)\n"
      ]
    },
    {
      "cell_type": "code",
      "execution_count": null,
      "metadata": {
        "id": "s4cqic_B3kzK",
        "colab": {
          "base_uri": "https://localhost:8080/",
          "height": 751
        },
        "outputId": "26a3d7c6-3803-40b7-d5b8-be5e64ca15e3"
      },
      "outputs": [
        {
          "output_type": "stream",
          "name": "stdout",
          "text": [
            "      Iter       Train Loss      OOB Improve   Remaining Time \n",
            "         1           1.3855           0.0004            2.86m\n",
            "         2           1.3846           0.0005            2.89m\n",
            "         3           1.3841           0.0005            2.87m\n",
            "         4           1.3831           0.0007            2.87m\n",
            "         5           1.3817           0.0008            2.87m\n",
            "         6           1.3809           0.0012            2.91m\n",
            "         7           1.3802           0.0005            2.94m\n",
            "         8           1.3791           0.0005            2.93m\n",
            "         9           1.3784           0.0005            2.92m\n",
            "        10           1.3777           0.0007            2.90m\n",
            "        20           1.3704           0.0004            2.87m\n",
            "        30           1.3628           0.0006            2.87m\n",
            "        40           1.3553           0.0007            2.85m\n",
            "        50           1.3476           0.0004            2.82m\n",
            "        60           1.3433           0.0002            2.81m\n",
            "        70           1.3398           0.0003            2.79m\n",
            "        80           1.3313           0.0006            2.77m\n",
            "        90           1.3249           0.0005            2.77m\n",
            "       100           1.3234           0.0003            2.77m\n",
            "       200           1.2777          -0.0000            2.71m\n",
            "       300           1.2431           0.0003            2.65m\n",
            "       400           1.2134           0.0001            2.58m\n",
            "       500           1.1918           0.0000            2.51m\n",
            "       600           1.1680           0.0000            2.45m\n",
            "       700           1.1411           0.0001            2.40m\n",
            "F1 score: 0.62\n",
            "Accuracy: 61.72 %\n"
          ]
        },
        {
          "output_type": "display_data",
          "data": {
            "image/png": "[encoded data removed]",
            "text/plain": [
              "<Figure size 432x288 with 1 Axes>"
            ]
          },
          "metadata": {
            "needs_background": "light"
          }
        }
      ],
      "source": [
        "classify(model_gbm, X_train_use_sent, X_test_use_sent, y_train, y_test) #for e/i"
      ]
    },
    {
      "cell_type": "code",
      "source": [
        "classify(model_gbm, X_train_use_sent, X_test_use_sent, y_train, y_test) #for s/n"
      ],
      "metadata": {
        "colab": {
          "base_uri": "https://localhost:8080/",
          "height": 803
        },
        "id": "5xvJldY9MLqJ",
        "outputId": "efb01817-7939-43d7-d0ba-32a52680dfe8"
      },
      "execution_count": null,
      "outputs": [
        {
          "output_type": "stream",
          "name": "stdout",
          "text": [
            "      Iter       Train Loss      OOB Improve   Remaining Time \n",
            "         1           1.3852           0.0006            1.99m\n",
            "         2           1.3843           0.0009            2.07m\n",
            "         3           1.3837           0.0005            2.10m\n",
            "         4           1.3827           0.0006            2.11m\n",
            "         5           1.3816           0.0007            2.13m\n",
            "         6           1.3810           0.0006            2.11m\n",
            "         7           1.3800           0.0007            2.11m\n",
            "         8           1.3788           0.0005            2.16m\n",
            "         9           1.3781           0.0010            2.17m\n",
            "        10           1.3770           0.0005            2.17m\n",
            "        20           1.3691           0.0004            2.12m\n",
            "        30           1.3594           0.0008            2.15m\n",
            "        40           1.3532           0.0003            2.13m\n",
            "        50           1.3425           0.0002            2.13m\n",
            "        60           1.3347           0.0004            2.12m\n",
            "        70           1.3303           0.0006            2.13m\n",
            "        80           1.3255           0.0003            2.11m\n",
            "        90           1.3201           0.0003            2.11m\n",
            "       100           1.3134           0.0003            2.10m\n",
            "       200           1.2648           0.0001            2.03m\n",
            "       300           1.2264           0.0001            2.11m\n",
            "       400           1.1931           0.0001            2.20m\n",
            "       500           1.1696           0.0001            2.29m\n",
            "       600           1.1410           0.0001            2.37m\n",
            "       700           1.1312           0.0001            2.24m\n",
            "       800           1.1056           0.0001            2.22m\n",
            "       900           1.0782           0.0001            2.12m\n",
            "      1000           1.0598          -0.0001            2.03m\n",
            "F1 score: 0.65\n",
            "Accuracy: 65.48 %\n"
          ]
        },
        {
          "output_type": "display_data",
          "data": {
            "image/png": "[encoded data removed]",
            "text/plain": [
              "<Figure size 432x288 with 1 Axes>"
            ]
          },
          "metadata": {
            "needs_background": "light"
          }
        }
      ]
    },
    {
      "cell_type": "code",
      "execution_count": null,
      "metadata": {
        "colab": {
          "base_uri": "https://localhost:8080/",
          "height": 716
        },
        "id": "UkeQdsizXN_r",
        "outputId": "30b7542b-c51f-4a27-edaf-6a0ce19a88f9"
      },
      "outputs": [
        {
          "output_type": "stream",
          "name": "stdout",
          "text": [
            "      Iter       Train Loss      OOB Improve   Remaining Time \n",
            "         1           1.3856           0.0002            2.53m\n",
            "         2           1.3852           0.0002            2.70m\n",
            "         3           1.3847           0.0003            2.69m\n",
            "         4           1.3842           0.0002            2.66m\n",
            "         5           1.3837           0.0001            2.67m\n",
            "         6           1.3837           0.0000            2.65m\n",
            "         7           1.3831           0.0001            2.73m\n",
            "         8           1.3826           0.0001            2.72m\n",
            "         9           1.3824           0.0001            2.73m\n",
            "        10           1.3819           0.0002            2.73m\n",
            "        20           1.3772           0.0003            2.75m\n",
            "        30           1.3734           0.0001            2.75m\n",
            "        40           1.3700           0.0002            2.73m\n",
            "        50           1.3660           0.0001            3.41m\n",
            "        60           1.3628           0.0001            4.10m\n",
            "        70           1.3583           0.0000            3.88m\n",
            "        80           1.3541           0.0002            3.71m\n",
            "        90           1.3516           0.0001            3.59m\n",
            "       100           1.3482           0.0001            3.49m\n",
            "       200           1.3167           0.0003            2.97m\n",
            "       300           1.2893           0.0001            2.77m\n",
            "       400           1.2685           0.0000            2.64m\n",
            "       500           1.2473          -0.0000            2.55m\n",
            "F1 score: 0.58\n",
            "Accuracy: 58.05 %\n"
          ]
        },
        {
          "output_type": "display_data",
          "data": {
            "image/png": "[encoded data removed]",
            "text/plain": [
              "<Figure size 432x288 with 1 Axes>"
            ]
          },
          "metadata": {
            "needs_background": "light"
          }
        }
      ],
      "source": [
        "classify(model_gbm, X_train_use_sent, X_test_use_sent, y_train, y_test) #for t/f"
      ]
    },
    {
      "cell_type": "code",
      "execution_count": null,
      "metadata": {
        "colab": {
          "base_uri": "https://localhost:8080/",
          "height": 734
        },
        "id": "I9D2_RuwXtZd",
        "outputId": "bce15dfa-020d-4064-c81f-c4a586c6b77b"
      },
      "outputs": [
        {
          "output_type": "stream",
          "name": "stdout",
          "text": [
            "      Iter       Train Loss      OOB Improve   Remaining Time \n",
            "         1           1.3857           0.0002            4.02m\n",
            "         2           1.3851           0.0002            4.03m\n",
            "         3           1.3849           0.0001            3.98m\n",
            "         4           1.3843           0.0001            3.94m\n",
            "         5           1.3838           0.0001            4.07m\n",
            "         6           1.3834           0.0001            4.04m\n",
            "         7           1.3832           0.0002            4.04m\n",
            "         8           1.3827           0.0001            3.99m\n",
            "         9           1.3825           0.0002            3.96m\n",
            "        10           1.3820           0.0002            4.07m\n",
            "        20           1.3787           0.0001            4.22m\n",
            "        30           1.3747           0.0001            3.96m\n",
            "        40           1.3712          -0.0000            3.63m\n",
            "        50           1.3682           0.0001            3.42m\n",
            "        60           1.3646           0.0001            3.27m\n",
            "        70           1.3608           0.0001            3.17m\n",
            "        80           1.3574           0.0002            3.10m\n",
            "        90           1.3535           0.0000            3.03m\n",
            "       100           1.3522           0.0001            2.98m\n",
            "       200           1.3247           0.0000            2.70m\n",
            "       300           1.3012           0.0000            2.56m\n",
            "       400           1.2825          -0.0000            2.47m\n",
            "       500           1.2652           0.0000            2.40m\n",
            "       600           1.2434           0.0000            2.33m\n",
            "F1 score: 0.56\n",
            "Accuracy: 56.18 %\n"
          ]
        },
        {
          "output_type": "display_data",
          "data": {
            "image/png": "[encoded data removed]",
            "text/plain": [
              "<Figure size 432x288 with 1 Axes>"
            ]
          },
          "metadata": {
            "needs_background": "light"
          }
        }
      ],
      "source": [
        "classify(model_gbm, X_train_use_sent, X_test_use_sent, y_train, y_test) #for j/p"
      ]
    },
    {
      "cell_type": "markdown",
      "source": [
        "Average = 60.855%"
      ],
      "metadata": {
        "id": "ZOFdYcS-6rWN"
      }
    },
    {
      "cell_type": "markdown",
      "source": [
        "##Sequential"
      ],
      "metadata": {
        "id": "bzafHg_ONd1k"
      }
    },
    {
      "cell_type": "code",
      "source": [
        "import keras\n",
        "from keras.models import Sequential\n",
        "from keras.layers import Dense, Dropout, Activation\n",
        "from tensorflow.keras.optimizers import SGD"
      ],
      "metadata": {
        "id": "tRv8N0bMNfn8"
      },
      "execution_count": null,
      "outputs": []
    },
    {
      "cell_type": "code",
      "source": [
        "model = Sequential()\n",
        "\n",
        "model.add(Dense(64, activation='relu',input_dim=X_train_use_sent.shape[1]))\n",
        "model.add(Dropout(0.5))\n",
        "model.add(Dense(128, activation='relu'))\n",
        "model.add(Dropout(0.5))\n",
        "model.add(Dense(64, activation='relu'))\n",
        "model.add(Dropout(0.5))\n",
        "model.add(Dense(1, activation='sigmoid'))\n",
        "\n",
        "sgd = SGD(learning_rate=0.01, decay=1e-6, momentum=0.9, nesterov=True)\n",
        "model.compile(loss='binary_crossentropy', optimizer=sgd, metrics=['accuracy'])"
      ],
      "metadata": {
        "id": "9DHWxaUHOFdw"
      },
      "execution_count": null,
      "outputs": []
    },
    {
      "cell_type": "code",
      "source": [
        "history = model.fit(X_train_use_sent,y_train, epochs=45,batch_size=64)\n",
        "pred = (model.predict(X_test_use_sent) > 0.5).astype(int)\n",
        "print(f\"F1 score: {metrics.f1_score(y_test, pred, average='micro').round(2)}\")\n",
        "print(f\"Accuracy: {(100*metrics.accuracy_score(y_test, pred)).round(2)} %\")\n",
        "conf_mat = metrics.confusion_matrix(y_test, pred)\n",
        "sns.heatmap(conf_mat, square=True, annot=True, cmap='YlOrRd', fmt='d', cbar=True)"
      ],
      "metadata": {
        "colab": {
          "base_uri": "https://localhost:8080/",
          "height": 317
        },
        "id": "SUPvaU8hHVgm",
        "outputId": "20d6c88a-7549-41f0-96b4-082f354e28a0"
      },
      "execution_count": null,
      "outputs": [
        {
          "output_type": "stream",
          "name": "stdout",
          "text": [
            "F1 score: 0.66\n",
            "Accuracy: 65.52 %\n"
          ]
        },
        {
          "output_type": "execute_result",
          "data": {
            "text/plain": [
              "<matplotlib.axes._subplots.AxesSubplot at 0x7fa055dcd910>"
            ]
          },
          "metadata": {},
          "execution_count": 131
        },
        {
          "output_type": "display_data",
          "data": {
            "image/png": "[encoded data removed]",
            "text/plain": [
              "<Figure size 432x288 with 2 Axes>"
            ]
          },
          "metadata": {
            "needs_background": "light"
          }
        }
      ]
    }
  ]
}